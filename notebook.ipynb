{
 "cells": [
  {
   "cell_type": "markdown",
   "id": "associate-alert",
   "metadata": {},
   "source": [
    "# Bank Marketing Campaign Project"
   ]
  },
  {
   "cell_type": "markdown",
   "id": "grand-negotiation",
   "metadata": {},
   "source": [
    "### Problem Definition"
   ]
  },
  {
   "cell_type": "markdown",
   "id": "unknown-pocket",
   "metadata": {},
   "source": [
    "Portuguese bank is having a decrease in its revenue. The bank wants to be able to predict which clients are most likely to subscribe a term deposit so they can focus marketing efforts and resources on them and avoid wasting money and time on clients that will probably not subscribe. "
   ]
  },
  {
   "cell_type": "markdown",
   "id": "marked-development",
   "metadata": {},
   "source": [
    "### Importing Libraries"
   ]
  },
  {
   "cell_type": "code",
   "execution_count": 1,
   "id": "editorial-dealer",
   "metadata": {},
   "outputs": [],
   "source": [
    "import pandas as pd\n",
    "import numpy as np\n",
    "import matplotlib.pyplot as plt\n",
    "%matplotlib inline\n",
    "import seaborn as sns\n",
    "\n",
    "\n"
   ]
  },
  {
   "cell_type": "markdown",
   "id": "dynamic-stevens",
   "metadata": {},
   "source": [
    "### Loading Data"
   ]
  },
  {
   "cell_type": "code",
   "execution_count": 2,
   "id": "level-lottery",
   "metadata": {},
   "outputs": [
    {
     "data": {
      "text/html": [
       "<div>\n",
       "<style scoped>\n",
       "    .dataframe tbody tr th:only-of-type {\n",
       "        vertical-align: middle;\n",
       "    }\n",
       "\n",
       "    .dataframe tbody tr th {\n",
       "        vertical-align: top;\n",
       "    }\n",
       "\n",
       "    .dataframe thead th {\n",
       "        text-align: right;\n",
       "    }\n",
       "</style>\n",
       "<table border=\"1\" class=\"dataframe\">\n",
       "  <thead>\n",
       "    <tr style=\"text-align: right;\">\n",
       "      <th></th>\n",
       "      <th>age</th>\n",
       "      <th>job</th>\n",
       "      <th>marital</th>\n",
       "      <th>education</th>\n",
       "      <th>default</th>\n",
       "      <th>housing</th>\n",
       "      <th>loan</th>\n",
       "      <th>contact</th>\n",
       "      <th>month</th>\n",
       "      <th>day_of_week</th>\n",
       "      <th>...</th>\n",
       "      <th>campaign</th>\n",
       "      <th>pdays</th>\n",
       "      <th>previous</th>\n",
       "      <th>poutcome</th>\n",
       "      <th>emp.var.rate</th>\n",
       "      <th>cons.price.idx</th>\n",
       "      <th>cons.conf.idx</th>\n",
       "      <th>euribor3m</th>\n",
       "      <th>nr.employed</th>\n",
       "      <th>y</th>\n",
       "    </tr>\n",
       "  </thead>\n",
       "  <tbody>\n",
       "    <tr>\n",
       "      <th>0</th>\n",
       "      <td>56</td>\n",
       "      <td>housemaid</td>\n",
       "      <td>married</td>\n",
       "      <td>basic.4y</td>\n",
       "      <td>no</td>\n",
       "      <td>no</td>\n",
       "      <td>no</td>\n",
       "      <td>telephone</td>\n",
       "      <td>may</td>\n",
       "      <td>mon</td>\n",
       "      <td>...</td>\n",
       "      <td>1</td>\n",
       "      <td>999</td>\n",
       "      <td>0</td>\n",
       "      <td>nonexistent</td>\n",
       "      <td>1.1</td>\n",
       "      <td>93.994</td>\n",
       "      <td>-36.4</td>\n",
       "      <td>4.857</td>\n",
       "      <td>5191.0</td>\n",
       "      <td>no</td>\n",
       "    </tr>\n",
       "    <tr>\n",
       "      <th>1</th>\n",
       "      <td>57</td>\n",
       "      <td>services</td>\n",
       "      <td>married</td>\n",
       "      <td>high.school</td>\n",
       "      <td>unknown</td>\n",
       "      <td>no</td>\n",
       "      <td>no</td>\n",
       "      <td>telephone</td>\n",
       "      <td>may</td>\n",
       "      <td>mon</td>\n",
       "      <td>...</td>\n",
       "      <td>1</td>\n",
       "      <td>999</td>\n",
       "      <td>0</td>\n",
       "      <td>nonexistent</td>\n",
       "      <td>1.1</td>\n",
       "      <td>93.994</td>\n",
       "      <td>-36.4</td>\n",
       "      <td>4.857</td>\n",
       "      <td>5191.0</td>\n",
       "      <td>no</td>\n",
       "    </tr>\n",
       "    <tr>\n",
       "      <th>2</th>\n",
       "      <td>37</td>\n",
       "      <td>services</td>\n",
       "      <td>married</td>\n",
       "      <td>high.school</td>\n",
       "      <td>no</td>\n",
       "      <td>yes</td>\n",
       "      <td>no</td>\n",
       "      <td>telephone</td>\n",
       "      <td>may</td>\n",
       "      <td>mon</td>\n",
       "      <td>...</td>\n",
       "      <td>1</td>\n",
       "      <td>999</td>\n",
       "      <td>0</td>\n",
       "      <td>nonexistent</td>\n",
       "      <td>1.1</td>\n",
       "      <td>93.994</td>\n",
       "      <td>-36.4</td>\n",
       "      <td>4.857</td>\n",
       "      <td>5191.0</td>\n",
       "      <td>no</td>\n",
       "    </tr>\n",
       "    <tr>\n",
       "      <th>3</th>\n",
       "      <td>40</td>\n",
       "      <td>admin.</td>\n",
       "      <td>married</td>\n",
       "      <td>basic.6y</td>\n",
       "      <td>no</td>\n",
       "      <td>no</td>\n",
       "      <td>no</td>\n",
       "      <td>telephone</td>\n",
       "      <td>may</td>\n",
       "      <td>mon</td>\n",
       "      <td>...</td>\n",
       "      <td>1</td>\n",
       "      <td>999</td>\n",
       "      <td>0</td>\n",
       "      <td>nonexistent</td>\n",
       "      <td>1.1</td>\n",
       "      <td>93.994</td>\n",
       "      <td>-36.4</td>\n",
       "      <td>4.857</td>\n",
       "      <td>5191.0</td>\n",
       "      <td>no</td>\n",
       "    </tr>\n",
       "    <tr>\n",
       "      <th>4</th>\n",
       "      <td>56</td>\n",
       "      <td>services</td>\n",
       "      <td>married</td>\n",
       "      <td>high.school</td>\n",
       "      <td>no</td>\n",
       "      <td>no</td>\n",
       "      <td>yes</td>\n",
       "      <td>telephone</td>\n",
       "      <td>may</td>\n",
       "      <td>mon</td>\n",
       "      <td>...</td>\n",
       "      <td>1</td>\n",
       "      <td>999</td>\n",
       "      <td>0</td>\n",
       "      <td>nonexistent</td>\n",
       "      <td>1.1</td>\n",
       "      <td>93.994</td>\n",
       "      <td>-36.4</td>\n",
       "      <td>4.857</td>\n",
       "      <td>5191.0</td>\n",
       "      <td>no</td>\n",
       "    </tr>\n",
       "  </tbody>\n",
       "</table>\n",
       "<p>5 rows × 21 columns</p>\n",
       "</div>"
      ],
      "text/plain": [
       "   age        job  marital    education  default housing loan    contact  \\\n",
       "0   56  housemaid  married     basic.4y       no      no   no  telephone   \n",
       "1   57   services  married  high.school  unknown      no   no  telephone   \n",
       "2   37   services  married  high.school       no     yes   no  telephone   \n",
       "3   40     admin.  married     basic.6y       no      no   no  telephone   \n",
       "4   56   services  married  high.school       no      no  yes  telephone   \n",
       "\n",
       "  month day_of_week  ...  campaign  pdays  previous     poutcome emp.var.rate  \\\n",
       "0   may         mon  ...         1    999         0  nonexistent          1.1   \n",
       "1   may         mon  ...         1    999         0  nonexistent          1.1   \n",
       "2   may         mon  ...         1    999         0  nonexistent          1.1   \n",
       "3   may         mon  ...         1    999         0  nonexistent          1.1   \n",
       "4   may         mon  ...         1    999         0  nonexistent          1.1   \n",
       "\n",
       "   cons.price.idx  cons.conf.idx  euribor3m  nr.employed   y  \n",
       "0          93.994          -36.4      4.857       5191.0  no  \n",
       "1          93.994          -36.4      4.857       5191.0  no  \n",
       "2          93.994          -36.4      4.857       5191.0  no  \n",
       "3          93.994          -36.4      4.857       5191.0  no  \n",
       "4          93.994          -36.4      4.857       5191.0  no  \n",
       "\n",
       "[5 rows x 21 columns]"
      ]
     },
     "execution_count": 2,
     "metadata": {},
     "output_type": "execute_result"
    }
   ],
   "source": [
    "#Let's load the data and take a first look to the first rows.\n",
    "\n",
    "data = pd.read_csv('../Data/bank-additional-full.csv',sep=\";\")\n",
    "data.head(5)"
   ]
  },
  {
   "cell_type": "markdown",
   "id": "static-candidate",
   "metadata": {},
   "source": [
    "## Data Understanding"
   ]
  },
  {
   "cell_type": "code",
   "execution_count": 3,
   "id": "minute-criterion",
   "metadata": {},
   "outputs": [
    {
     "name": "stdout",
     "output_type": "stream",
     "text": [
      "The shape of the data is:(41188, 21)\n"
     ]
    }
   ],
   "source": [
    "print(\"The shape of the data is:\" + str(data.shape))\n"
   ]
  },
  {
   "cell_type": "markdown",
   "id": "operational-portfolio",
   "metadata": {},
   "source": [
    "Which means there are 41188 rows and 21 columns (features)."
   ]
  },
  {
   "cell_type": "code",
   "execution_count": 4,
   "id": "affecting-crazy",
   "metadata": {
    "scrolled": true
   },
   "outputs": [
    {
     "name": "stdout",
     "output_type": "stream",
     "text": [
      "<class 'pandas.core.frame.DataFrame'>\n",
      "RangeIndex: 41188 entries, 0 to 41187\n",
      "Data columns (total 21 columns):\n",
      " #   Column          Non-Null Count  Dtype  \n",
      "---  ------          --------------  -----  \n",
      " 0   age             41188 non-null  int64  \n",
      " 1   job             41188 non-null  object \n",
      " 2   marital         41188 non-null  object \n",
      " 3   education       41188 non-null  object \n",
      " 4   default         41188 non-null  object \n",
      " 5   housing         41188 non-null  object \n",
      " 6   loan            41188 non-null  object \n",
      " 7   contact         41188 non-null  object \n",
      " 8   month           41188 non-null  object \n",
      " 9   day_of_week     41188 non-null  object \n",
      " 10  duration        41188 non-null  int64  \n",
      " 11  campaign        41188 non-null  int64  \n",
      " 12  pdays           41188 non-null  int64  \n",
      " 13  previous        41188 non-null  int64  \n",
      " 14  poutcome        41188 non-null  object \n",
      " 15  emp.var.rate    41188 non-null  float64\n",
      " 16  cons.price.idx  41188 non-null  float64\n",
      " 17  cons.conf.idx   41188 non-null  float64\n",
      " 18  euribor3m       41188 non-null  float64\n",
      " 19  nr.employed     41188 non-null  float64\n",
      " 20  y               41188 non-null  object \n",
      "dtypes: float64(5), int64(5), object(11)\n",
      "memory usage: 6.6+ MB\n"
     ]
    }
   ],
   "source": [
    "#Checking if there are null values and each feature's type.\n",
    "data.info()"
   ]
  },
  {
   "cell_type": "markdown",
   "id": "aggressive-selection",
   "metadata": {},
   "source": [
    "We can see that there are 11 categorical columns and 10 numerical columns (including integers and float data type). \n",
    "Our target variable is called 'y' and is also a categorical column."
   ]
  },
  {
   "cell_type": "code",
   "execution_count": 5,
   "id": "catholic-wilson",
   "metadata": {},
   "outputs": [
    {
     "data": {
      "text/html": [
       "<div>\n",
       "<style scoped>\n",
       "    .dataframe tbody tr th:only-of-type {\n",
       "        vertical-align: middle;\n",
       "    }\n",
       "\n",
       "    .dataframe tbody tr th {\n",
       "        vertical-align: top;\n",
       "    }\n",
       "\n",
       "    .dataframe thead th {\n",
       "        text-align: right;\n",
       "    }\n",
       "</style>\n",
       "<table border=\"1\" class=\"dataframe\">\n",
       "  <thead>\n",
       "    <tr style=\"text-align: right;\">\n",
       "      <th></th>\n",
       "      <th>age</th>\n",
       "      <th>duration</th>\n",
       "      <th>campaign</th>\n",
       "      <th>pdays</th>\n",
       "      <th>previous</th>\n",
       "      <th>emp.var.rate</th>\n",
       "      <th>cons.price.idx</th>\n",
       "      <th>cons.conf.idx</th>\n",
       "      <th>euribor3m</th>\n",
       "      <th>nr.employed</th>\n",
       "    </tr>\n",
       "  </thead>\n",
       "  <tbody>\n",
       "    <tr>\n",
       "      <th>count</th>\n",
       "      <td>41188.00000</td>\n",
       "      <td>41188.000000</td>\n",
       "      <td>41188.000000</td>\n",
       "      <td>41188.000000</td>\n",
       "      <td>41188.000000</td>\n",
       "      <td>41188.000000</td>\n",
       "      <td>41188.000000</td>\n",
       "      <td>41188.000000</td>\n",
       "      <td>41188.000000</td>\n",
       "      <td>41188.000000</td>\n",
       "    </tr>\n",
       "    <tr>\n",
       "      <th>mean</th>\n",
       "      <td>40.02406</td>\n",
       "      <td>258.285010</td>\n",
       "      <td>2.567593</td>\n",
       "      <td>962.475454</td>\n",
       "      <td>0.172963</td>\n",
       "      <td>0.081886</td>\n",
       "      <td>93.575664</td>\n",
       "      <td>-40.502600</td>\n",
       "      <td>3.621291</td>\n",
       "      <td>5167.035911</td>\n",
       "    </tr>\n",
       "    <tr>\n",
       "      <th>std</th>\n",
       "      <td>10.42125</td>\n",
       "      <td>259.279249</td>\n",
       "      <td>2.770014</td>\n",
       "      <td>186.910907</td>\n",
       "      <td>0.494901</td>\n",
       "      <td>1.570960</td>\n",
       "      <td>0.578840</td>\n",
       "      <td>4.628198</td>\n",
       "      <td>1.734447</td>\n",
       "      <td>72.251528</td>\n",
       "    </tr>\n",
       "    <tr>\n",
       "      <th>min</th>\n",
       "      <td>17.00000</td>\n",
       "      <td>0.000000</td>\n",
       "      <td>1.000000</td>\n",
       "      <td>0.000000</td>\n",
       "      <td>0.000000</td>\n",
       "      <td>-3.400000</td>\n",
       "      <td>92.201000</td>\n",
       "      <td>-50.800000</td>\n",
       "      <td>0.634000</td>\n",
       "      <td>4963.600000</td>\n",
       "    </tr>\n",
       "    <tr>\n",
       "      <th>25%</th>\n",
       "      <td>32.00000</td>\n",
       "      <td>102.000000</td>\n",
       "      <td>1.000000</td>\n",
       "      <td>999.000000</td>\n",
       "      <td>0.000000</td>\n",
       "      <td>-1.800000</td>\n",
       "      <td>93.075000</td>\n",
       "      <td>-42.700000</td>\n",
       "      <td>1.344000</td>\n",
       "      <td>5099.100000</td>\n",
       "    </tr>\n",
       "    <tr>\n",
       "      <th>50%</th>\n",
       "      <td>38.00000</td>\n",
       "      <td>180.000000</td>\n",
       "      <td>2.000000</td>\n",
       "      <td>999.000000</td>\n",
       "      <td>0.000000</td>\n",
       "      <td>1.100000</td>\n",
       "      <td>93.749000</td>\n",
       "      <td>-41.800000</td>\n",
       "      <td>4.857000</td>\n",
       "      <td>5191.000000</td>\n",
       "    </tr>\n",
       "    <tr>\n",
       "      <th>75%</th>\n",
       "      <td>47.00000</td>\n",
       "      <td>319.000000</td>\n",
       "      <td>3.000000</td>\n",
       "      <td>999.000000</td>\n",
       "      <td>0.000000</td>\n",
       "      <td>1.400000</td>\n",
       "      <td>93.994000</td>\n",
       "      <td>-36.400000</td>\n",
       "      <td>4.961000</td>\n",
       "      <td>5228.100000</td>\n",
       "    </tr>\n",
       "    <tr>\n",
       "      <th>max</th>\n",
       "      <td>98.00000</td>\n",
       "      <td>4918.000000</td>\n",
       "      <td>56.000000</td>\n",
       "      <td>999.000000</td>\n",
       "      <td>7.000000</td>\n",
       "      <td>1.400000</td>\n",
       "      <td>94.767000</td>\n",
       "      <td>-26.900000</td>\n",
       "      <td>5.045000</td>\n",
       "      <td>5228.100000</td>\n",
       "    </tr>\n",
       "  </tbody>\n",
       "</table>\n",
       "</div>"
      ],
      "text/plain": [
       "               age      duration      campaign         pdays      previous  \\\n",
       "count  41188.00000  41188.000000  41188.000000  41188.000000  41188.000000   \n",
       "mean      40.02406    258.285010      2.567593    962.475454      0.172963   \n",
       "std       10.42125    259.279249      2.770014    186.910907      0.494901   \n",
       "min       17.00000      0.000000      1.000000      0.000000      0.000000   \n",
       "25%       32.00000    102.000000      1.000000    999.000000      0.000000   \n",
       "50%       38.00000    180.000000      2.000000    999.000000      0.000000   \n",
       "75%       47.00000    319.000000      3.000000    999.000000      0.000000   \n",
       "max       98.00000   4918.000000     56.000000    999.000000      7.000000   \n",
       "\n",
       "       emp.var.rate  cons.price.idx  cons.conf.idx     euribor3m   nr.employed  \n",
       "count  41188.000000    41188.000000   41188.000000  41188.000000  41188.000000  \n",
       "mean       0.081886       93.575664     -40.502600      3.621291   5167.035911  \n",
       "std        1.570960        0.578840       4.628198      1.734447     72.251528  \n",
       "min       -3.400000       92.201000     -50.800000      0.634000   4963.600000  \n",
       "25%       -1.800000       93.075000     -42.700000      1.344000   5099.100000  \n",
       "50%        1.100000       93.749000     -41.800000      4.857000   5191.000000  \n",
       "75%        1.400000       93.994000     -36.400000      4.961000   5228.100000  \n",
       "max        1.400000       94.767000     -26.900000      5.045000   5228.100000  "
      ]
     },
     "execution_count": 5,
     "metadata": {},
     "output_type": "execute_result"
    }
   ],
   "source": [
    "#Checking numerical parameters statistics:\n",
    "\n",
    "data.describe()"
   ]
  },
  {
   "cell_type": "markdown",
   "id": "postal-apple",
   "metadata": {},
   "source": [
    "### Checking for missing values"
   ]
  },
  {
   "cell_type": "code",
   "execution_count": 6,
   "id": "valid-retro",
   "metadata": {},
   "outputs": [
    {
     "data": {
      "text/plain": [
       "age               0\n",
       "job               0\n",
       "marital           0\n",
       "education         0\n",
       "default           0\n",
       "housing           0\n",
       "loan              0\n",
       "contact           0\n",
       "month             0\n",
       "day_of_week       0\n",
       "duration          0\n",
       "campaign          0\n",
       "pdays             0\n",
       "previous          0\n",
       "poutcome          0\n",
       "emp.var.rate      0\n",
       "cons.price.idx    0\n",
       "cons.conf.idx     0\n",
       "euribor3m         0\n",
       "nr.employed       0\n",
       "y                 0\n",
       "dtype: int64"
      ]
     },
     "execution_count": 6,
     "metadata": {},
     "output_type": "execute_result"
    }
   ],
   "source": [
    "#Checking of there are any null values at any feature column.\n",
    "data.isnull().sum()"
   ]
  },
  {
   "cell_type": "markdown",
   "id": "loaded-partition",
   "metadata": {},
   "source": [
    "As we can see there are no missing values so there will be no need to impute them."
   ]
  },
  {
   "cell_type": "code",
   "execution_count": 7,
   "id": "juvenile-opinion",
   "metadata": {},
   "outputs": [
    {
     "data": {
      "image/png": "[encoded data removed]",
      "text/plain": [
       "<Figure size 432x288 with 1 Axes>"
      ]
     },
     "metadata": {
      "needs_background": "light"
     },
     "output_type": "display_data"
    }
   ],
   "source": [
    "#Let's look at the distribution of our target variable to see if this is an unbalanced data.\n",
    "sns.countplot(x=data['y'], data=data)\n",
    "plt.title('Distribution of target variable')\n",
    "plt.show()"
   ]
  },
  {
   "cell_type": "markdown",
   "id": "finnish-vacuum",
   "metadata": {},
   "source": [
    "We can see that we are dealing with a very unbalanced data because most of the data belongs to 'No' class."
   ]
  },
  {
   "cell_type": "markdown",
   "id": "strong-sellers",
   "metadata": {},
   "source": [
    "## Exploratory Data Analysis"
   ]
  },
  {
   "cell_type": "code",
   "execution_count": 8,
   "id": "connected-adobe",
   "metadata": {},
   "outputs": [],
   "source": [
    "#For purposes of our exploratory data analysis we will separate our prediction target from our features.\n",
    "\n",
    "target = data.y\n",
    "features = data.drop('y', axis=1)"
   ]
  },
  {
   "cell_type": "code",
   "execution_count": 9,
   "id": "administrative-tuner",
   "metadata": {},
   "outputs": [],
   "source": [
    "#Let's check which are the features with categories (object type) in our training set\n",
    "\n",
    "str_cols = features.select_dtypes('object').columns\n",
    "num_cols = features.select_dtypes(['int', 'float']).columns"
   ]
  },
  {
   "cell_type": "code",
   "execution_count": 10,
   "id": "unavailable-health",
   "metadata": {},
   "outputs": [
    {
     "data": {
      "text/plain": [
       "Index(['job', 'marital', 'education', 'default', 'housing', 'loan', 'contact',\n",
       "       'month', 'day_of_week', 'poutcome'],\n",
       "      dtype='object')"
      ]
     },
     "execution_count": 10,
     "metadata": {},
     "output_type": "execute_result"
    }
   ],
   "source": [
    "str_cols"
   ]
  },
  {
   "cell_type": "code",
   "execution_count": 11,
   "id": "limiting-scholarship",
   "metadata": {},
   "outputs": [],
   "source": [
    "#Let's check the categories in each of those features\n",
    "\n",
    "def countplot_features(feature):\n",
    "    fig = plt.figure(figsize=(15,10))\n",
    "    plot=sns.countplot(x=feature,data=features)\n",
    "    plt.show()"
   ]
  },
  {
   "cell_type": "code",
   "execution_count": 12,
   "id": "joint-drama",
   "metadata": {},
   "outputs": [],
   "source": [
    "def countplot_targetvsfeature(feature,y):\n",
    "    fig = plt.figure(figsize=(15,10))\n",
    "    plot=sns.countplot(x=feature,data=features,hue=y)\n",
    "    plt.show()"
   ]
  },
  {
   "cell_type": "markdown",
   "id": "eastern-death",
   "metadata": {},
   "source": [
    "**1. Job**"
   ]
  },
  {
   "cell_type": "code",
   "execution_count": 13,
   "id": "pressing-mainstream",
   "metadata": {},
   "outputs": [
    {
     "data": {
      "image/png": "[encoded data removed]",
      "text/plain": [
       "<Figure size 1080x720 with 1 Axes>"
      ]
     },
     "metadata": {
      "needs_background": "light"
     },
     "output_type": "display_data"
    },
    {
     "data": {
      "image/png": "[encoded data removed]",
      "text/plain": [
       "<Figure size 1080x720 with 1 Axes>"
      ]
     },
     "metadata": {
      "needs_background": "light"
     },
     "output_type": "display_data"
    }
   ],
   "source": [
    "countplot_features('job')\n",
    "countplot_targetvsfeature('job', target)"
   ]
  },
  {
   "cell_type": "markdown",
   "id": "collaborative-accounting",
   "metadata": {},
   "source": [
    "**2. Marital**"
   ]
  },
  {
   "cell_type": "code",
   "execution_count": 14,
   "id": "fatty-shadow",
   "metadata": {},
   "outputs": [
    {
     "data": {
      "image/png": "[encoded data removed]",
      "text/plain": [
       "<Figure size 1080x720 with 1 Axes>"
      ]
     },
     "metadata": {
      "needs_background": "light"
     },
     "output_type": "display_data"
    },
    {
     "data": {
      "image/png": "[encoded data removed]",
      "text/plain": [
       "<Figure size 1080x720 with 1 Axes>"
      ]
     },
     "metadata": {
      "needs_background": "light"
     },
     "output_type": "display_data"
    }
   ],
   "source": [
    "countplot_features('marital')\n",
    "countplot_targetvsfeature('marital', target)"
   ]
  },
  {
   "cell_type": "markdown",
   "id": "mathematical-rider",
   "metadata": {},
   "source": [
    "**3. Education**"
   ]
  },
  {
   "cell_type": "code",
   "execution_count": 15,
   "id": "turned-weather",
   "metadata": {},
   "outputs": [
    {
     "data": {
      "image/png": "[encoded data removed]",
      "text/plain": [
       "<Figure size 1080x720 with 1 Axes>"
      ]
     },
     "metadata": {
      "needs_background": "light"
     },
     "output_type": "display_data"
    },
    {
     "data": {
      "image/png": "[encoded data removed]",
      "text/plain": [
       "<Figure size 1080x720 with 1 Axes>"
      ]
     },
     "metadata": {
      "needs_background": "light"
     },
     "output_type": "display_data"
    }
   ],
   "source": [
    "countplot_features('education')\n",
    "countplot_targetvsfeature('education', target)"
   ]
  },
  {
   "cell_type": "markdown",
   "id": "excited-broadcasting",
   "metadata": {},
   "source": [
    "**4. Default**"
   ]
  },
  {
   "cell_type": "code",
   "execution_count": 16,
   "id": "smart-civilian",
   "metadata": {},
   "outputs": [
    {
     "data": {
      "image/png": "[encoded data removed]",
      "text/plain": [
       "<Figure size 1080x720 with 1 Axes>"
      ]
     },
     "metadata": {
      "needs_background": "light"
     },
     "output_type": "display_data"
    },
    {
     "data": {
      "image/png": "[encoded data removed]",
      "text/plain": [
       "<Figure size 1080x720 with 1 Axes>"
      ]
     },
     "metadata": {
      "needs_background": "light"
     },
     "output_type": "display_data"
    }
   ],
   "source": [
    "countplot_features('default')\n",
    "countplot_targetvsfeature('default', target)"
   ]
  },
  {
   "cell_type": "markdown",
   "id": "wound-medium",
   "metadata": {},
   "source": [
    "**5. Housing**"
   ]
  },
  {
   "cell_type": "code",
   "execution_count": 17,
   "id": "israeli-wilderness",
   "metadata": {},
   "outputs": [
    {
     "data": {
      "image/png": "[encoded data removed]",
      "text/plain": [
       "<Figure size 1080x720 with 1 Axes>"
      ]
     },
     "metadata": {
      "needs_background": "light"
     },
     "output_type": "display_data"
    },
    {
     "data": {
      "image/png": "[encoded data removed]",
      "text/plain": [
       "<Figure size 1080x720 with 1 Axes>"
      ]
     },
     "metadata": {
      "needs_background": "light"
     },
     "output_type": "display_data"
    }
   ],
   "source": [
    "countplot_features('housing')\n",
    "countplot_targetvsfeature('housing', target)"
   ]
  },
  {
   "cell_type": "markdown",
   "id": "interstate-browse",
   "metadata": {},
   "source": [
    "**6. Loan**"
   ]
  },
  {
   "cell_type": "code",
   "execution_count": 18,
   "id": "prepared-sculpture",
   "metadata": {},
   "outputs": [
    {
     "data": {
      "image/png": "[encoded data removed]",
      "text/plain": [
       "<Figure size 1080x720 with 1 Axes>"
      ]
     },
     "metadata": {
      "needs_background": "light"
     },
     "output_type": "display_data"
    },
    {
     "data": {
      "image/png": "[encoded data removed]",
      "text/plain": [
       "<Figure size 1080x720 with 1 Axes>"
      ]
     },
     "metadata": {
      "needs_background": "light"
     },
     "output_type": "display_data"
    }
   ],
   "source": [
    "countplot_features('loan')\n",
    "countplot_targetvsfeature('loan', target)"
   ]
  },
  {
   "cell_type": "markdown",
   "id": "distinguished-group",
   "metadata": {},
   "source": [
    "**7. Contact**"
   ]
  },
  {
   "cell_type": "code",
   "execution_count": 19,
   "id": "focused-relative",
   "metadata": {},
   "outputs": [
    {
     "data": {
      "image/png": "[encoded data removed]",
      "text/plain": [
       "<Figure size 1080x720 with 1 Axes>"
      ]
     },
     "metadata": {
      "needs_background": "light"
     },
     "output_type": "display_data"
    },
    {
     "data": {
      "image/png": "[encoded data removed]",
      "text/plain": [
       "<Figure size 1080x720 with 1 Axes>"
      ]
     },
     "metadata": {
      "needs_background": "light"
     },
     "output_type": "display_data"
    }
   ],
   "source": [
    "countplot_features('contact')\n",
    "countplot_targetvsfeature('contact', target)"
   ]
  },
  {
   "cell_type": "markdown",
   "id": "durable-plenty",
   "metadata": {},
   "source": [
    "**8. Month**"
   ]
  },
  {
   "cell_type": "code",
   "execution_count": 20,
   "id": "passive-botswana",
   "metadata": {},
   "outputs": [
    {
     "data": {
      "image/png": "[encoded data removed]",
      "text/plain": [
       "<Figure size 1080x720 with 1 Axes>"
      ]
     },
     "metadata": {
      "needs_background": "light"
     },
     "output_type": "display_data"
    },
    {
     "data": {
      "image/png": "[encoded data removed]",
      "text/plain": [
       "<Figure size 1080x720 with 1 Axes>"
      ]
     },
     "metadata": {
      "needs_background": "light"
     },
     "output_type": "display_data"
    }
   ],
   "source": [
    "countplot_features('month')\n",
    "countplot_targetvsfeature('month', target)"
   ]
  },
  {
   "cell_type": "markdown",
   "id": "western-metabolism",
   "metadata": {},
   "source": [
    "**9. Day of the week**"
   ]
  },
  {
   "cell_type": "code",
   "execution_count": 21,
   "id": "contrary-passenger",
   "metadata": {},
   "outputs": [
    {
     "data": {
      "image/png": "[encoded data removed]",
      "text/plain": [
       "<Figure size 1080x720 with 1 Axes>"
      ]
     },
     "metadata": {
      "needs_background": "light"
     },
     "output_type": "display_data"
    },
    {
     "data": {
      "image/png": "[encoded data removed]",
      "text/plain": [
       "<Figure size 1080x720 with 1 Axes>"
      ]
     },
     "metadata": {
      "needs_background": "light"
     },
     "output_type": "display_data"
    }
   ],
   "source": [
    "countplot_features('day_of_week')\n",
    "countplot_targetvsfeature('day_of_week', target)"
   ]
  },
  {
   "cell_type": "markdown",
   "id": "waiting-reservation",
   "metadata": {},
   "source": [
    "**10. Previous Outcome**"
   ]
  },
  {
   "cell_type": "code",
   "execution_count": 22,
   "id": "explicit-armenia",
   "metadata": {},
   "outputs": [
    {
     "data": {
      "image/png": "[encoded data removed]",
      "text/plain": [
       "<Figure size 1080x720 with 1 Axes>"
      ]
     },
     "metadata": {
      "needs_background": "light"
     },
     "output_type": "display_data"
    },
    {
     "data": {
      "image/png": "[encoded data removed]",
      "text/plain": [
       "<Figure size 1080x720 with 1 Axes>"
      ]
     },
     "metadata": {
      "needs_background": "light"
     },
     "output_type": "display_data"
    }
   ],
   "source": [
    "countplot_features('poutcome')\n",
    "countplot_targetvsfeature('poutcome', target)"
   ]
  },
  {
   "cell_type": "markdown",
   "id": "coordinate-variation",
   "metadata": {},
   "source": [
    "The graphic above shows us a lot of non existent previous outcome, which makes us think that those people never answered the phone in the previous campaign but this time some of them even accepted a term deposit."
   ]
  },
  {
   "cell_type": "markdown",
   "id": "serious-intelligence",
   "metadata": {},
   "source": [
    "### Numerical features"
   ]
  },
  {
   "cell_type": "markdown",
   "id": "irish-criterion",
   "metadata": {},
   "source": [
    "**1. Relation between Pdays vs Previous**"
   ]
  },
  {
   "cell_type": "code",
   "execution_count": 23,
   "id": "heard-personal",
   "metadata": {},
   "outputs": [
    {
     "data": {
      "text/plain": [
       "<AxesSubplot:xlabel='pdays', ylabel='previous'>"
      ]
     },
     "execution_count": 23,
     "metadata": {},
     "output_type": "execute_result"
    },
    {
     "data": {
      "image/png": "[encoded data removed]",
      "text/plain": [
       "<Figure size 720x432 with 1 Axes>"
      ]
     },
     "metadata": {
      "needs_background": "light"
     },
     "output_type": "display_data"
    }
   ],
   "source": [
    "#Let's verify that there is coherence between the pdays variable \n",
    "#(#of days since last contacted----> if 999 then client was never contacted before) \n",
    "#and previous variable (# of times contacted in last campaign).\n",
    "\n",
    "plt.figure(figsize=(10,6))\n",
    "sns.scatterplot(x=features['pdays'], y=features['previous'], hue = features['poutcome'])\n"
   ]
  },
  {
   "cell_type": "markdown",
   "id": "american-reaction",
   "metadata": {},
   "source": [
    "In this graph we can confirm that the non-existent values (blue dot) in Previous campaign is because they were never contacted before (0 previous & 999 pdays) so there can't be any previous outcome. \n",
    "\n",
    "Orange dots on the left tells us the negative outcomes we had with people contacted from 2-5 times.\n",
    "Green dots on the left tells us the positive outcomes we had in the past with people contacted from 1 - 7 times.\n",
    "\n",
    "However the orange dots on the right tells us the negative outcomes we had in the past with people contacted from 1-6 times, even tough the 'pdays' feature tells us those people were never contacted before (999 days).\n",
    "\n",
    "To avoid confusions we will only use the 'previous' feature to know if someone was contacted before or not. Pdays feature will be eliminated during our data cleaning."
   ]
  },
  {
   "cell_type": "markdown",
   "id": "union-crest",
   "metadata": {},
   "source": [
    "**2. Relation between duration of calls, number of times called in this campaign and its respective outcome (y)**"
   ]
  },
  {
   "cell_type": "code",
   "execution_count": 24,
   "id": "amber-transcription",
   "metadata": {},
   "outputs": [
    {
     "data": {
      "text/plain": [
       "<AxesSubplot:xlabel='campaign', ylabel='duration'>"
      ]
     },
     "execution_count": 24,
     "metadata": {},
     "output_type": "execute_result"
    },
    {
     "data": {
      "image/png": "[encoded data removed]",
      "text/plain": [
       "<Figure size 1080x648 with 1 Axes>"
      ]
     },
     "metadata": {
      "needs_background": "light"
     },
     "output_type": "display_data"
    }
   ],
   "source": [
    "plt.figure(figsize=(15,9))\n",
    "sns.scatterplot(x= features['campaign'], y= features['duration'], hue = target)\n"
   ]
  },
  {
   "cell_type": "markdown",
   "id": "expected-suggestion",
   "metadata": {},
   "source": [
    "In the graphic above we can see that there is a negative relation between campaign (number of times client was called during this campaign) and duration of calls. The more the duration of calls, the less times that client was contacted. We could say people whom have been called more than 12 times, normally do not answer, or have a very short answer. "
   ]
  },
  {
   "cell_type": "markdown",
   "id": "improved-writing",
   "metadata": {},
   "source": [
    "**3. Relation between job, age and outcome of this campaign**"
   ]
  },
  {
   "cell_type": "code",
   "execution_count": 25,
   "id": "structural-majority",
   "metadata": {},
   "outputs": [
    {
     "data": {
      "text/plain": [
       "<AxesSubplot:xlabel='job', ylabel='age'>"
      ]
     },
     "execution_count": 25,
     "metadata": {},
     "output_type": "execute_result"
    },
    {
     "data": {
      "image/png": "[encoded data removed]",
      "text/plain": [
       "<Figure size 1080x648 with 1 Axes>"
      ]
     },
     "metadata": {
      "needs_background": "light"
     },
     "output_type": "display_data"
    }
   ],
   "source": [
    "#Can we visualize what job and age is a more common client for a term deposit?\n",
    "\n",
    "plt.figure(figsize=(15,9)) \n",
    "sns.barplot(x= features['job'], y= features['age'], hue= target)\n"
   ]
  },
  {
   "cell_type": "markdown",
   "id": "operating-ceiling",
   "metadata": {},
   "source": [
    "We can see that there is a bigger difference between yes and no subscribers in retired people from a range of 65-70 years old, and housemaids in a range of 50-55 years old."
   ]
  },
  {
   "cell_type": "code",
   "execution_count": 26,
   "id": "amateur-possibility",
   "metadata": {},
   "outputs": [
    {
     "data": {
      "image/png": "[encoded data removed]",
      "text/plain": [
       "<Figure size 864x720 with 2 Axes>"
      ]
     },
     "metadata": {
      "needs_background": "light"
     },
     "output_type": "display_data"
    }
   ],
   "source": [
    "#We graph numerical data correlation to see if I find any other interesting relations. \n",
    "\n",
    "fig = plt.figure(figsize=(12,10))\n",
    "cor_matrix = pd.concat([features[num_cols]], axis = 1).corr()\n",
    "sns.heatmap(cor_matrix)\n",
    "plt.show()"
   ]
  },
  {
   "cell_type": "markdown",
   "id": "beginning-kuwait",
   "metadata": {},
   "source": [
    "\n",
    "Number of employees rate is highly correlated with employee variation rate and bank interest rates.\n",
    "\n",
    "Consumer price index is highly correlated with bank interest rate( higher the price index, higher the interest rate) and employee variation rate.\n",
    "\n",
    "Number of contacts performed before this campaign has a highly negative correlation with employee variation rate and bank interest rates. (The higher the interest rates , the less contacts performed before this campaign)."
   ]
  },
  {
   "cell_type": "markdown",
   "id": "built-freedom",
   "metadata": {},
   "source": [
    "# Data Cleaning and Preparation\n",
    "\n"
   ]
  },
  {
   "cell_type": "markdown",
   "id": "pointed-celtic",
   "metadata": {},
   "source": [
    "We have finished visualizing features so we will use again our main data variable to start cleaning and preparing the data."
   ]
  },
  {
   "cell_type": "markdown",
   "id": "ready-louis",
   "metadata": {},
   "source": [
    "**1. Checking for outliers**"
   ]
  },
  {
   "cell_type": "code",
   "execution_count": 27,
   "id": "corporate-contact",
   "metadata": {},
   "outputs": [
    {
     "data": {
      "text/html": [
       "<div>\n",
       "<style scoped>\n",
       "    .dataframe tbody tr th:only-of-type {\n",
       "        vertical-align: middle;\n",
       "    }\n",
       "\n",
       "    .dataframe tbody tr th {\n",
       "        vertical-align: top;\n",
       "    }\n",
       "\n",
       "    .dataframe thead th {\n",
       "        text-align: right;\n",
       "    }\n",
       "</style>\n",
       "<table border=\"1\" class=\"dataframe\">\n",
       "  <thead>\n",
       "    <tr style=\"text-align: right;\">\n",
       "      <th></th>\n",
       "      <th>age</th>\n",
       "      <th>duration</th>\n",
       "      <th>campaign</th>\n",
       "      <th>pdays</th>\n",
       "      <th>previous</th>\n",
       "      <th>emp.var.rate</th>\n",
       "      <th>cons.price.idx</th>\n",
       "      <th>cons.conf.idx</th>\n",
       "      <th>euribor3m</th>\n",
       "      <th>nr.employed</th>\n",
       "    </tr>\n",
       "  </thead>\n",
       "  <tbody>\n",
       "    <tr>\n",
       "      <th>count</th>\n",
       "      <td>41188.00000</td>\n",
       "      <td>41188.000000</td>\n",
       "      <td>41188.000000</td>\n",
       "      <td>41188.000000</td>\n",
       "      <td>41188.000000</td>\n",
       "      <td>41188.000000</td>\n",
       "      <td>41188.000000</td>\n",
       "      <td>41188.000000</td>\n",
       "      <td>41188.000000</td>\n",
       "      <td>41188.000000</td>\n",
       "    </tr>\n",
       "    <tr>\n",
       "      <th>mean</th>\n",
       "      <td>40.02406</td>\n",
       "      <td>258.285010</td>\n",
       "      <td>2.567593</td>\n",
       "      <td>962.475454</td>\n",
       "      <td>0.172963</td>\n",
       "      <td>0.081886</td>\n",
       "      <td>93.575664</td>\n",
       "      <td>-40.502600</td>\n",
       "      <td>3.621291</td>\n",
       "      <td>5167.035911</td>\n",
       "    </tr>\n",
       "    <tr>\n",
       "      <th>std</th>\n",
       "      <td>10.42125</td>\n",
       "      <td>259.279249</td>\n",
       "      <td>2.770014</td>\n",
       "      <td>186.910907</td>\n",
       "      <td>0.494901</td>\n",
       "      <td>1.570960</td>\n",
       "      <td>0.578840</td>\n",
       "      <td>4.628198</td>\n",
       "      <td>1.734447</td>\n",
       "      <td>72.251528</td>\n",
       "    </tr>\n",
       "    <tr>\n",
       "      <th>min</th>\n",
       "      <td>17.00000</td>\n",
       "      <td>0.000000</td>\n",
       "      <td>1.000000</td>\n",
       "      <td>0.000000</td>\n",
       "      <td>0.000000</td>\n",
       "      <td>-3.400000</td>\n",
       "      <td>92.201000</td>\n",
       "      <td>-50.800000</td>\n",
       "      <td>0.634000</td>\n",
       "      <td>4963.600000</td>\n",
       "    </tr>\n",
       "    <tr>\n",
       "      <th>25%</th>\n",
       "      <td>32.00000</td>\n",
       "      <td>102.000000</td>\n",
       "      <td>1.000000</td>\n",
       "      <td>999.000000</td>\n",
       "      <td>0.000000</td>\n",
       "      <td>-1.800000</td>\n",
       "      <td>93.075000</td>\n",
       "      <td>-42.700000</td>\n",
       "      <td>1.344000</td>\n",
       "      <td>5099.100000</td>\n",
       "    </tr>\n",
       "    <tr>\n",
       "      <th>50%</th>\n",
       "      <td>38.00000</td>\n",
       "      <td>180.000000</td>\n",
       "      <td>2.000000</td>\n",
       "      <td>999.000000</td>\n",
       "      <td>0.000000</td>\n",
       "      <td>1.100000</td>\n",
       "      <td>93.749000</td>\n",
       "      <td>-41.800000</td>\n",
       "      <td>4.857000</td>\n",
       "      <td>5191.000000</td>\n",
       "    </tr>\n",
       "    <tr>\n",
       "      <th>75%</th>\n",
       "      <td>47.00000</td>\n",
       "      <td>319.000000</td>\n",
       "      <td>3.000000</td>\n",
       "      <td>999.000000</td>\n",
       "      <td>0.000000</td>\n",
       "      <td>1.400000</td>\n",
       "      <td>93.994000</td>\n",
       "      <td>-36.400000</td>\n",
       "      <td>4.961000</td>\n",
       "      <td>5228.100000</td>\n",
       "    </tr>\n",
       "    <tr>\n",
       "      <th>max</th>\n",
       "      <td>98.00000</td>\n",
       "      <td>4918.000000</td>\n",
       "      <td>56.000000</td>\n",
       "      <td>999.000000</td>\n",
       "      <td>7.000000</td>\n",
       "      <td>1.400000</td>\n",
       "      <td>94.767000</td>\n",
       "      <td>-26.900000</td>\n",
       "      <td>5.045000</td>\n",
       "      <td>5228.100000</td>\n",
       "    </tr>\n",
       "  </tbody>\n",
       "</table>\n",
       "</div>"
      ],
      "text/plain": [
       "               age      duration      campaign         pdays      previous  \\\n",
       "count  41188.00000  41188.000000  41188.000000  41188.000000  41188.000000   \n",
       "mean      40.02406    258.285010      2.567593    962.475454      0.172963   \n",
       "std       10.42125    259.279249      2.770014    186.910907      0.494901   \n",
       "min       17.00000      0.000000      1.000000      0.000000      0.000000   \n",
       "25%       32.00000    102.000000      1.000000    999.000000      0.000000   \n",
       "50%       38.00000    180.000000      2.000000    999.000000      0.000000   \n",
       "75%       47.00000    319.000000      3.000000    999.000000      0.000000   \n",
       "max       98.00000   4918.000000     56.000000    999.000000      7.000000   \n",
       "\n",
       "       emp.var.rate  cons.price.idx  cons.conf.idx     euribor3m   nr.employed  \n",
       "count  41188.000000    41188.000000   41188.000000  41188.000000  41188.000000  \n",
       "mean       0.081886       93.575664     -40.502600      3.621291   5167.035911  \n",
       "std        1.570960        0.578840       4.628198      1.734447     72.251528  \n",
       "min       -3.400000       92.201000     -50.800000      0.634000   4963.600000  \n",
       "25%       -1.800000       93.075000     -42.700000      1.344000   5099.100000  \n",
       "50%        1.100000       93.749000     -41.800000      4.857000   5191.000000  \n",
       "75%        1.400000       93.994000     -36.400000      4.961000   5228.100000  \n",
       "max        1.400000       94.767000     -26.900000      5.045000   5228.100000  "
      ]
     },
     "execution_count": 27,
     "metadata": {},
     "output_type": "execute_result"
    }
   ],
   "source": [
    "data.describe()"
   ]
  },
  {
   "cell_type": "markdown",
   "id": "ongoing-province",
   "metadata": {},
   "source": [
    "To have a more general view we used Describe function to see what numerical features have minimum or maximum numbers very far away from the mean value. We notice that age, duration and campaign are those 3 features we will look closer to search for outliers."
   ]
  },
  {
   "cell_type": "markdown",
   "id": "packed-fishing",
   "metadata": {},
   "source": [
    "**Age**"
   ]
  },
  {
   "cell_type": "code",
   "execution_count": 28,
   "id": "female-upgrade",
   "metadata": {},
   "outputs": [
    {
     "name": "stdout",
     "output_type": "stream",
     "text": [
      "count    41188.00000\n",
      "mean        40.02406\n",
      "std         10.42125\n",
      "min         17.00000\n",
      "25%         32.00000\n",
      "50%         38.00000\n",
      "75%         47.00000\n",
      "max         98.00000\n",
      "Name: age, dtype: float64\n"
     ]
    }
   ],
   "source": [
    "stat1= data['age'].describe()\n",
    "print(stat1)"
   ]
  },
  {
   "cell_type": "code",
   "execution_count": 29,
   "id": "promotional-vanilla",
   "metadata": {},
   "outputs": [
    {
     "name": "stdout",
     "output_type": "stream",
     "text": [
      "The upper & lower bounds for suspected outliers are 69.5 and 9.5.\n"
     ]
    }
   ],
   "source": [
    "IQR = stat1['75%']-stat1['25%']\n",
    "upper = stat1['75%'] + 1.5*IQR\n",
    "lower = stat1['25%'] - 1.5*IQR\n",
    "print('The upper & lower bounds for suspected outliers are {} and {}.'.format(upper,lower))"
   ]
  },
  {
   "cell_type": "code",
   "execution_count": 30,
   "id": "annual-england",
   "metadata": {},
   "outputs": [
    {
     "data": {
      "text/plain": [
       "Text(0, 0.5, 'Age')"
      ]
     },
     "execution_count": 30,
     "metadata": {},
     "output_type": "execute_result"
    },
    {
     "data": {
      "image/png": "[encoded data removed]",
      "text/plain": [
       "<Figure size 432x432 with 1 Axes>"
      ]
     },
     "metadata": {
      "needs_background": "light"
     },
     "output_type": "display_data"
    }
   ],
   "source": [
    "plt.figure(figsize=(6,6))\n",
    "sns.boxplot(data=data['age'])\n",
    "plt.title('Looking for outliers in Age feature')\n",
    "plt.ylabel('Age')"
   ]
  },
  {
   "cell_type": "markdown",
   "id": "former-cattle",
   "metadata": {},
   "source": [
    "As the minimum number is 17 there is no need to look for the outliers below 9.5"
   ]
  },
  {
   "cell_type": "markdown",
   "id": "worldwide-ribbon",
   "metadata": {},
   "source": [
    "**Duration**"
   ]
  },
  {
   "cell_type": "code",
   "execution_count": 31,
   "id": "conscious-transition",
   "metadata": {},
   "outputs": [
    {
     "name": "stdout",
     "output_type": "stream",
     "text": [
      "count    41188.000000\n",
      "mean       258.285010\n",
      "std        259.279249\n",
      "min          0.000000\n",
      "25%        102.000000\n",
      "50%        180.000000\n",
      "75%        319.000000\n",
      "max       4918.000000\n",
      "Name: duration, dtype: float64\n"
     ]
    }
   ],
   "source": [
    "stat2= data['duration'].describe()\n",
    "print(stat2)"
   ]
  },
  {
   "cell_type": "code",
   "execution_count": 32,
   "id": "encouraging-delay",
   "metadata": {},
   "outputs": [
    {
     "name": "stdout",
     "output_type": "stream",
     "text": [
      "The upper & lower bounds for suspected outliers are 644.5 and -223.5.\n"
     ]
    }
   ],
   "source": [
    "IQR = stat2['75%']-stat2['25%']\n",
    "upper = stat2['75%'] + 1.5*IQR\n",
    "lower = stat2['25%'] - 1.5*IQR\n",
    "print('The upper & lower bounds for suspected outliers are {} and {}.'.format(upper,lower))"
   ]
  },
  {
   "cell_type": "code",
   "execution_count": 33,
   "id": "stuffed-access",
   "metadata": {},
   "outputs": [
    {
     "data": {
      "text/plain": [
       "Text(0, 0.5, 'Duration')"
      ]
     },
     "execution_count": 33,
     "metadata": {},
     "output_type": "execute_result"
    },
    {
     "data": {
      "image/png": "[encoded data removed]",
      "text/plain": [
       "<Figure size 432x720 with 1 Axes>"
      ]
     },
     "metadata": {
      "needs_background": "light"
     },
     "output_type": "display_data"
    }
   ],
   "source": [
    "plt.figure(figsize=(6,10))\n",
    "sns.boxplot(data=data['duration'])\n",
    "plt.title('Looking for outliers in Duration feature')\n",
    "plt.ylabel('Duration')"
   ]
  },
  {
   "cell_type": "markdown",
   "id": "positive-preservation",
   "metadata": {},
   "source": [
    "As the minimum number is 0 there is no need to look for outliers below -223.5"
   ]
  },
  {
   "cell_type": "markdown",
   "id": "catholic-subscriber",
   "metadata": {},
   "source": [
    "**Campaign**"
   ]
  },
  {
   "cell_type": "code",
   "execution_count": 34,
   "id": "collectible-burst",
   "metadata": {},
   "outputs": [
    {
     "name": "stdout",
     "output_type": "stream",
     "text": [
      "count    41188.000000\n",
      "mean         2.567593\n",
      "std          2.770014\n",
      "min          1.000000\n",
      "25%          1.000000\n",
      "50%          2.000000\n",
      "75%          3.000000\n",
      "max         56.000000\n",
      "Name: campaign, dtype: float64\n"
     ]
    }
   ],
   "source": [
    "stat3= data['campaign'].describe()\n",
    "print(stat3)"
   ]
  },
  {
   "cell_type": "code",
   "execution_count": 35,
   "id": "human-romantic",
   "metadata": {},
   "outputs": [
    {
     "name": "stdout",
     "output_type": "stream",
     "text": [
      "The upper & lower bounds for suspected outliers are 6.0 and -2.0.\n"
     ]
    }
   ],
   "source": [
    "IQR = stat3['75%']-stat3['25%']\n",
    "upper = stat3['75%'] + 1.5*IQR\n",
    "lower = stat3['25%'] - 1.5*IQR\n",
    "print('The upper & lower bounds for suspected outliers are {} and {}.'.format(upper,lower))"
   ]
  },
  {
   "cell_type": "code",
   "execution_count": 36,
   "id": "joined-greensboro",
   "metadata": {},
   "outputs": [
    {
     "data": {
      "text/plain": [
       "Text(0, 0.5, 'Campaign')"
      ]
     },
     "execution_count": 36,
     "metadata": {},
     "output_type": "execute_result"
    },
    {
     "data": {
      "image/png": "[encoded data removed]",
      "text/plain": [
       "<Figure size 432x720 with 1 Axes>"
      ]
     },
     "metadata": {
      "needs_background": "light"
     },
     "output_type": "display_data"
    }
   ],
   "source": [
    "plt.figure(figsize=(6,10))\n",
    "sns.boxplot(data=data['campaign'])\n",
    "plt.title('Looking for outliers in Campaign feature')\n",
    "plt.ylabel('Campaign')"
   ]
  },
  {
   "cell_type": "markdown",
   "id": "smooth-cathedral",
   "metadata": {},
   "source": [
    "As the minimun number is 1 there is no need to look for outliers below -2."
   ]
  },
  {
   "cell_type": "markdown",
   "id": "artistic-delta",
   "metadata": {},
   "source": [
    "**2. Replacing 'unknown' values**"
   ]
  },
  {
   "cell_type": "markdown",
   "id": "thorough-swiss",
   "metadata": {},
   "source": [
    "Let's use the most frequent value to replace each of the unknown values in categorical features.  "
   ]
  },
  {
   "cell_type": "code",
   "execution_count": 37,
   "id": "tough-segment",
   "metadata": {},
   "outputs": [],
   "source": [
    "def replace_with_frequent(df,col):\n",
    "    frequent = df[col].value_counts().idxmax()\n",
    "    print(\"The most frequent value is:\", frequent)\n",
    "    df[col].replace('unknown', frequent , inplace = True)\n",
    "    print(\"Replacing unknown values with the most frequent value:\", frequent)"
   ]
  },
  {
   "cell_type": "code",
   "execution_count": 38,
   "id": "higher-buddy",
   "metadata": {},
   "outputs": [
    {
     "name": "stdout",
     "output_type": "stream",
     "text": [
      "Job:\n",
      "The most frequent value is: admin.\n",
      "Replacing unknown values with the most frequent value: admin.\n",
      "--------------------------------------------------\n",
      "Marital:\n",
      "The most frequent value is: married\n",
      "Replacing unknown values with the most frequent value: married\n",
      "--------------------------------------------------\n",
      "Education:\n",
      "The most frequent value is: university.degree\n",
      "Replacing unknown values with the most frequent value: university.degree\n",
      "--------------------------------------------------\n",
      "Default:\n",
      "The most frequent value is: no\n",
      "Replacing unknown values with the most frequent value: no\n",
      "--------------------------------------------------\n",
      "Housing:\n",
      "The most frequent value is: yes\n",
      "Replacing unknown values with the most frequent value: yes\n",
      "--------------------------------------------------\n",
      "Loan:\n",
      "The most frequent value is: no\n",
      "Replacing unknown values with the most frequent value: no\n"
     ]
    }
   ],
   "source": [
    "#Replacing unknown values in categorical features.\n",
    "print('Job:')\n",
    "replace_with_frequent(data, \"job\")\n",
    "print('-'*50)\n",
    "print('Marital:')\n",
    "replace_with_frequent(data, \"marital\")\n",
    "print('-'*50)\n",
    "print('Education:')\n",
    "replace_with_frequent(data, \"education\")\n",
    "print('-'*50)\n",
    "print('Default:')\n",
    "replace_with_frequent(data, \"default\")\n",
    "print('-'*50)\n",
    "print('Housing:')\n",
    "replace_with_frequent(data, \"housing\")\n",
    "print('-'*50)\n",
    "print('Loan:')\n",
    "replace_with_frequent(data, \"loan\")\n"
   ]
  },
  {
   "cell_type": "markdown",
   "id": "hungarian-dressing",
   "metadata": {},
   "source": [
    "We saw in the Exploratory Data Analysis that 'contact', 'month', 'day_of_week' and 'poutcome' did not have unknown value so we are not replacing any value there."
   ]
  },
  {
   "cell_type": "code",
   "execution_count": 39,
   "id": "northern-smart",
   "metadata": {},
   "outputs": [
    {
     "name": "stdout",
     "output_type": "stream",
     "text": [
      "Job:\n",
      "admin.           10752\n",
      "blue-collar       9254\n",
      "technician        6743\n",
      "services          3969\n",
      "management        2924\n",
      "retired           1720\n",
      "entrepreneur      1456\n",
      "self-employed     1421\n",
      "housemaid         1060\n",
      "unemployed        1014\n",
      "student            875\n",
      "Name: job, dtype: int64\n",
      "--------------------------------------------------\n",
      "Marital status:\n",
      "married     25008\n",
      "single      11568\n",
      "divorced     4612\n",
      "Name: marital, dtype: int64\n",
      "--------------------------------------------------\n",
      "Education:\n",
      "university.degree      13899\n",
      "high.school             9515\n",
      "basic.9y                6045\n",
      "professional.course     5243\n",
      "basic.4y                4176\n",
      "basic.6y                2292\n",
      "illiterate                18\n",
      "Name: education, dtype: int64\n",
      "--------------------------------------------------\n",
      "Default credit:\n",
      "no     41185\n",
      "yes        3\n",
      "Name: default, dtype: int64\n",
      "--------------------------------------------------\n",
      "Housing loan:\n",
      "yes    22566\n",
      "no     18622\n",
      "Name: housing, dtype: int64\n",
      "--------------------------------------------------\n",
      "Personal Loan:\n",
      "no     34940\n",
      "yes     6248\n",
      "Name: loan, dtype: int64\n",
      "--------------------------------------------------\n",
      "Contact method:\n",
      "cellular     26144\n",
      "telephone    15044\n",
      "Name: contact, dtype: int64\n",
      "--------------------------------------------------\n",
      "Month:\n",
      "may    13769\n",
      "jul     7174\n",
      "aug     6178\n",
      "jun     5318\n",
      "nov     4101\n",
      "apr     2632\n",
      "oct      718\n",
      "sep      570\n",
      "mar      546\n",
      "dec      182\n",
      "Name: month, dtype: int64\n",
      "--------------------------------------------------\n",
      "Day_of_week:\n",
      "thu    8623\n",
      "mon    8514\n",
      "wed    8134\n",
      "tue    8090\n",
      "fri    7827\n",
      "Name: day_of_week, dtype: int64\n",
      "--------------------------------------------------\n",
      "Previous outcome:\n",
      "nonexistent    35563\n",
      "failure         4252\n",
      "success         1373\n",
      "Name: poutcome, dtype: int64\n"
     ]
    }
   ],
   "source": [
    "#Verifying if unknown values were replaced\n",
    "\n",
    "\n",
    "print(\"Job:\", data.job.value_counts(),sep = '\\n')\n",
    "print(\"-\"*50)\n",
    "print(\"Marital status:\", data.marital.value_counts(), sep = '\\n')\n",
    "print(\"-\"*50)\n",
    "print(\"Education:\", data.education.value_counts(), sep = '\\n')\n",
    "print(\"-\"*50)\n",
    "print(\"Default credit:\", data.default.value_counts(), sep = '\\n')\n",
    "print(\"-\"*50)\n",
    "print(\"Housing loan:\", data.housing.value_counts(), sep = '\\n')\n",
    "print(\"-\"*50)\n",
    "print(\"Personal Loan:\", data.loan.value_counts(), sep = '\\n')\n",
    "print(\"-\"*50)\n",
    "print(\"Contact method:\", data.contact.value_counts(), sep = '\\n')\n",
    "print(\"-\"*50)\n",
    "print(\"Month:\", data.month.value_counts(), sep = '\\n')\n",
    "print(\"-\"*50)\n",
    "print(\"Day_of_week:\", data.day_of_week.value_counts(), sep = '\\n')\n",
    "print(\"-\"*50)\n",
    "print(\"Previous outcome:\", data.poutcome.value_counts(), sep = '\\n')"
   ]
  },
  {
   "cell_type": "markdown",
   "id": "first-moderator",
   "metadata": {},
   "source": [
    "**3. Converting Age into categorical data**"
   ]
  },
  {
   "cell_type": "code",
   "execution_count": 40,
   "id": "minus-romantic",
   "metadata": {},
   "outputs": [],
   "source": [
    "#add a new column next to the age column for age groups.\n",
    "\n",
    "age_groups = pd.cut(data['age'],bins=[10,20,30,40,50,60,70,80,90,100],\n",
    "                    labels=['10-19','20-29','30-39','40-49','50-59','60-69','70-79','80-89','90-100'])\n",
    "\n",
    "#inserting the new column\n",
    "data.insert(1,'age_group',age_groups)\n",
    "\n",
    "#dropping age column\n",
    "data.drop('age',axis=1,inplace=True)"
   ]
  },
  {
   "cell_type": "code",
   "execution_count": 41,
   "id": "intermediate-hazard",
   "metadata": {},
   "outputs": [
    {
     "data": {
      "text/html": [
       "<div>\n",
       "<style scoped>\n",
       "    .dataframe tbody tr th:only-of-type {\n",
       "        vertical-align: middle;\n",
       "    }\n",
       "\n",
       "    .dataframe tbody tr th {\n",
       "        vertical-align: top;\n",
       "    }\n",
       "\n",
       "    .dataframe thead th {\n",
       "        text-align: right;\n",
       "    }\n",
       "</style>\n",
       "<table border=\"1\" class=\"dataframe\">\n",
       "  <thead>\n",
       "    <tr style=\"text-align: right;\">\n",
       "      <th></th>\n",
       "      <th>age_group</th>\n",
       "      <th>job</th>\n",
       "      <th>marital</th>\n",
       "      <th>education</th>\n",
       "      <th>default</th>\n",
       "      <th>housing</th>\n",
       "      <th>loan</th>\n",
       "      <th>contact</th>\n",
       "      <th>month</th>\n",
       "      <th>day_of_week</th>\n",
       "      <th>...</th>\n",
       "      <th>campaign</th>\n",
       "      <th>pdays</th>\n",
       "      <th>previous</th>\n",
       "      <th>poutcome</th>\n",
       "      <th>emp.var.rate</th>\n",
       "      <th>cons.price.idx</th>\n",
       "      <th>cons.conf.idx</th>\n",
       "      <th>euribor3m</th>\n",
       "      <th>nr.employed</th>\n",
       "      <th>y</th>\n",
       "    </tr>\n",
       "  </thead>\n",
       "  <tbody>\n",
       "    <tr>\n",
       "      <th>0</th>\n",
       "      <td>50-59</td>\n",
       "      <td>housemaid</td>\n",
       "      <td>married</td>\n",
       "      <td>basic.4y</td>\n",
       "      <td>no</td>\n",
       "      <td>no</td>\n",
       "      <td>no</td>\n",
       "      <td>telephone</td>\n",
       "      <td>may</td>\n",
       "      <td>mon</td>\n",
       "      <td>...</td>\n",
       "      <td>1</td>\n",
       "      <td>999</td>\n",
       "      <td>0</td>\n",
       "      <td>nonexistent</td>\n",
       "      <td>1.1</td>\n",
       "      <td>93.994</td>\n",
       "      <td>-36.4</td>\n",
       "      <td>4.857</td>\n",
       "      <td>5191.0</td>\n",
       "      <td>no</td>\n",
       "    </tr>\n",
       "    <tr>\n",
       "      <th>1</th>\n",
       "      <td>50-59</td>\n",
       "      <td>services</td>\n",
       "      <td>married</td>\n",
       "      <td>high.school</td>\n",
       "      <td>no</td>\n",
       "      <td>no</td>\n",
       "      <td>no</td>\n",
       "      <td>telephone</td>\n",
       "      <td>may</td>\n",
       "      <td>mon</td>\n",
       "      <td>...</td>\n",
       "      <td>1</td>\n",
       "      <td>999</td>\n",
       "      <td>0</td>\n",
       "      <td>nonexistent</td>\n",
       "      <td>1.1</td>\n",
       "      <td>93.994</td>\n",
       "      <td>-36.4</td>\n",
       "      <td>4.857</td>\n",
       "      <td>5191.0</td>\n",
       "      <td>no</td>\n",
       "    </tr>\n",
       "  </tbody>\n",
       "</table>\n",
       "<p>2 rows × 21 columns</p>\n",
       "</div>"
      ],
      "text/plain": [
       "  age_group        job  marital    education default housing loan    contact  \\\n",
       "0     50-59  housemaid  married     basic.4y      no      no   no  telephone   \n",
       "1     50-59   services  married  high.school      no      no   no  telephone   \n",
       "\n",
       "  month day_of_week  ...  campaign  pdays  previous     poutcome emp.var.rate  \\\n",
       "0   may         mon  ...         1    999         0  nonexistent          1.1   \n",
       "1   may         mon  ...         1    999         0  nonexistent          1.1   \n",
       "\n",
       "   cons.price.idx  cons.conf.idx  euribor3m  nr.employed   y  \n",
       "0          93.994          -36.4      4.857       5191.0  no  \n",
       "1          93.994          -36.4      4.857       5191.0  no  \n",
       "\n",
       "[2 rows x 21 columns]"
      ]
     },
     "execution_count": 41,
     "metadata": {},
     "output_type": "execute_result"
    }
   ],
   "source": [
    "#Let's verify the change has taken place and visualize it\n",
    "data.head(2)"
   ]
  },
  {
   "cell_type": "markdown",
   "id": "parliamentary-doctor",
   "metadata": {},
   "source": [
    "**4. Grouping education categories 'basic.9y','basic.6y','basic4y' into 'middle_school'**"
   ]
  },
  {
   "cell_type": "code",
   "execution_count": 42,
   "id": "critical-blood",
   "metadata": {},
   "outputs": [
    {
     "data": {
      "text/plain": [
       "university.degree      13899\n",
       "middle.school          12513\n",
       "high.school             9515\n",
       "professional.course     5243\n",
       "illiterate                18\n",
       "Name: education, dtype: int64"
      ]
     },
     "execution_count": 42,
     "metadata": {},
     "output_type": "execute_result"
    }
   ],
   "source": [
    "lst=['basic.9y','basic.6y','basic.4y']\n",
    "for i in lst:\n",
    "    data.loc[data['education'] == i, 'education'] = \"middle.school\"\n",
    "\n",
    "data['education'].value_counts()"
   ]
  },
  {
   "cell_type": "code",
   "execution_count": 43,
   "id": "changing-feedback",
   "metadata": {},
   "outputs": [
    {
     "data": {
      "text/html": [
       "<div>\n",
       "<style scoped>\n",
       "    .dataframe tbody tr th:only-of-type {\n",
       "        vertical-align: middle;\n",
       "    }\n",
       "\n",
       "    .dataframe tbody tr th {\n",
       "        vertical-align: top;\n",
       "    }\n",
       "\n",
       "    .dataframe thead th {\n",
       "        text-align: right;\n",
       "    }\n",
       "</style>\n",
       "<table border=\"1\" class=\"dataframe\">\n",
       "  <thead>\n",
       "    <tr style=\"text-align: right;\">\n",
       "      <th></th>\n",
       "      <th>age_group</th>\n",
       "      <th>job</th>\n",
       "      <th>marital</th>\n",
       "      <th>education</th>\n",
       "      <th>default</th>\n",
       "      <th>housing</th>\n",
       "      <th>loan</th>\n",
       "      <th>contact</th>\n",
       "      <th>month</th>\n",
       "      <th>day_of_week</th>\n",
       "      <th>...</th>\n",
       "      <th>campaign</th>\n",
       "      <th>pdays</th>\n",
       "      <th>previous</th>\n",
       "      <th>poutcome</th>\n",
       "      <th>emp.var.rate</th>\n",
       "      <th>cons.price.idx</th>\n",
       "      <th>cons.conf.idx</th>\n",
       "      <th>euribor3m</th>\n",
       "      <th>nr.employed</th>\n",
       "      <th>y</th>\n",
       "    </tr>\n",
       "  </thead>\n",
       "  <tbody>\n",
       "    <tr>\n",
       "      <th>0</th>\n",
       "      <td>50-59</td>\n",
       "      <td>housemaid</td>\n",
       "      <td>married</td>\n",
       "      <td>middle.school</td>\n",
       "      <td>no</td>\n",
       "      <td>no</td>\n",
       "      <td>no</td>\n",
       "      <td>telephone</td>\n",
       "      <td>may</td>\n",
       "      <td>mon</td>\n",
       "      <td>...</td>\n",
       "      <td>1</td>\n",
       "      <td>999</td>\n",
       "      <td>0</td>\n",
       "      <td>nonexistent</td>\n",
       "      <td>1.1</td>\n",
       "      <td>93.994</td>\n",
       "      <td>-36.4</td>\n",
       "      <td>4.857</td>\n",
       "      <td>5191.0</td>\n",
       "      <td>no</td>\n",
       "    </tr>\n",
       "    <tr>\n",
       "      <th>1</th>\n",
       "      <td>50-59</td>\n",
       "      <td>services</td>\n",
       "      <td>married</td>\n",
       "      <td>high.school</td>\n",
       "      <td>no</td>\n",
       "      <td>no</td>\n",
       "      <td>no</td>\n",
       "      <td>telephone</td>\n",
       "      <td>may</td>\n",
       "      <td>mon</td>\n",
       "      <td>...</td>\n",
       "      <td>1</td>\n",
       "      <td>999</td>\n",
       "      <td>0</td>\n",
       "      <td>nonexistent</td>\n",
       "      <td>1.1</td>\n",
       "      <td>93.994</td>\n",
       "      <td>-36.4</td>\n",
       "      <td>4.857</td>\n",
       "      <td>5191.0</td>\n",
       "      <td>no</td>\n",
       "    </tr>\n",
       "  </tbody>\n",
       "</table>\n",
       "<p>2 rows × 21 columns</p>\n",
       "</div>"
      ],
      "text/plain": [
       "  age_group        job  marital      education default housing loan  \\\n",
       "0     50-59  housemaid  married  middle.school      no      no   no   \n",
       "1     50-59   services  married    high.school      no      no   no   \n",
       "\n",
       "     contact month day_of_week  ...  campaign  pdays  previous     poutcome  \\\n",
       "0  telephone   may         mon  ...         1    999         0  nonexistent   \n",
       "1  telephone   may         mon  ...         1    999         0  nonexistent   \n",
       "\n",
       "  emp.var.rate  cons.price.idx  cons.conf.idx  euribor3m  nr.employed   y  \n",
       "0          1.1          93.994          -36.4      4.857       5191.0  no  \n",
       "1          1.1          93.994          -36.4      4.857       5191.0  no  \n",
       "\n",
       "[2 rows x 21 columns]"
      ]
     },
     "execution_count": 43,
     "metadata": {},
     "output_type": "execute_result"
    }
   ],
   "source": [
    "data.head(2)"
   ]
  },
  {
   "cell_type": "markdown",
   "id": "demonstrated-affiliate",
   "metadata": {},
   "source": [
    "**5. Dropping pdays column**\n",
    "\n",
    "As we mentioned in the Exploratory Data Analysis, because of the inconsistency in *pdays* vs *previous* and *poutcome* we will only use the *previous* feature to determine if a client was called before.\n",
    "\n"
   ]
  },
  {
   "cell_type": "code",
   "execution_count": 44,
   "id": "southern-migration",
   "metadata": {},
   "outputs": [],
   "source": [
    "data.drop('pdays', axis=1, inplace= True)"
   ]
  },
  {
   "cell_type": "markdown",
   "id": "impaired-oxford",
   "metadata": {},
   "source": [
    "**6. Removing duplicates**"
   ]
  },
  {
   "cell_type": "code",
   "execution_count": 45,
   "id": "diverse-prairie",
   "metadata": {},
   "outputs": [
    {
     "name": "stdout",
     "output_type": "stream",
     "text": [
      "Duplicated Data (42, 20)\n"
     ]
    }
   ],
   "source": [
    "#We will lokk at the shape of duplicates and then remove them but we want to keep the most recent one.\n",
    "\n",
    "duplicated_data=data[data.duplicated(keep=\"last\")]\n",
    "print(\"Duplicated Data\",duplicated_data.shape)\n"
   ]
  },
  {
   "cell_type": "code",
   "execution_count": 46,
   "id": "fallen-entrance",
   "metadata": {},
   "outputs": [
    {
     "data": {
      "text/plain": [
       "(41146, 20)"
      ]
     },
     "execution_count": 46,
     "metadata": {},
     "output_type": "execute_result"
    }
   ],
   "source": [
    "#Removing duplicates\n",
    "data=data.drop_duplicates()\n",
    "data.shape"
   ]
  },
  {
   "cell_type": "markdown",
   "id": "alternative-collaboration",
   "metadata": {},
   "source": [
    "**7. Converting target variable into binary**"
   ]
  },
  {
   "cell_type": "code",
   "execution_count": 47,
   "id": "respected-filing",
   "metadata": {},
   "outputs": [],
   "source": [
    "#mapping into yes=1 and no=0\n",
    "def target_to_binary(y):\n",
    "    y.replace({\"yes\":1,\"no\":0},inplace=True)"
   ]
  },
  {
   "cell_type": "code",
   "execution_count": 48,
   "id": "soviet-attempt",
   "metadata": {},
   "outputs": [],
   "source": [
    "target_to_binary(data['y'])"
   ]
  },
  {
   "cell_type": "code",
   "execution_count": 49,
   "id": "dense-astronomy",
   "metadata": {},
   "outputs": [
    {
     "data": {
      "text/plain": [
       "0    0\n",
       "1    0\n",
       "2    0\n",
       "3    0\n",
       "4    0\n",
       "Name: y, dtype: int64"
      ]
     },
     "execution_count": 49,
     "metadata": {},
     "output_type": "execute_result"
    }
   ],
   "source": [
    "#veryfing result\n",
    "data['y'].head(5)"
   ]
  },
  {
   "cell_type": "markdown",
   "id": "modular-tribune",
   "metadata": {},
   "source": [
    "**8. Encoding ordinal features**"
   ]
  },
  {
   "cell_type": "code",
   "execution_count": 50,
   "id": "extensive-princeton",
   "metadata": {},
   "outputs": [],
   "source": [
    "from sklearn.preprocessing import LabelEncoder\n",
    "encoder = LabelEncoder()\n",
    "\n",
    "data['age_group'] = encoder.fit_transform(data['age_group'])\n",
    "data['education'] = encoder.fit_transform(data['education'])"
   ]
  },
  {
   "cell_type": "code",
   "execution_count": 51,
   "id": "brown-powell",
   "metadata": {},
   "outputs": [
    {
     "data": {
      "text/html": [
       "<div>\n",
       "<style scoped>\n",
       "    .dataframe tbody tr th:only-of-type {\n",
       "        vertical-align: middle;\n",
       "    }\n",
       "\n",
       "    .dataframe tbody tr th {\n",
       "        vertical-align: top;\n",
       "    }\n",
       "\n",
       "    .dataframe thead th {\n",
       "        text-align: right;\n",
       "    }\n",
       "</style>\n",
       "<table border=\"1\" class=\"dataframe\">\n",
       "  <thead>\n",
       "    <tr style=\"text-align: right;\">\n",
       "      <th></th>\n",
       "      <th>age_group</th>\n",
       "      <th>job</th>\n",
       "      <th>marital</th>\n",
       "      <th>education</th>\n",
       "      <th>default</th>\n",
       "      <th>housing</th>\n",
       "      <th>loan</th>\n",
       "      <th>contact</th>\n",
       "      <th>month</th>\n",
       "      <th>day_of_week</th>\n",
       "      <th>duration</th>\n",
       "      <th>campaign</th>\n",
       "      <th>previous</th>\n",
       "      <th>poutcome</th>\n",
       "      <th>emp.var.rate</th>\n",
       "      <th>cons.price.idx</th>\n",
       "      <th>cons.conf.idx</th>\n",
       "      <th>euribor3m</th>\n",
       "      <th>nr.employed</th>\n",
       "      <th>y</th>\n",
       "    </tr>\n",
       "  </thead>\n",
       "  <tbody>\n",
       "    <tr>\n",
       "      <th>0</th>\n",
       "      <td>4</td>\n",
       "      <td>housemaid</td>\n",
       "      <td>married</td>\n",
       "      <td>2</td>\n",
       "      <td>no</td>\n",
       "      <td>no</td>\n",
       "      <td>no</td>\n",
       "      <td>telephone</td>\n",
       "      <td>may</td>\n",
       "      <td>mon</td>\n",
       "      <td>261</td>\n",
       "      <td>1</td>\n",
       "      <td>0</td>\n",
       "      <td>nonexistent</td>\n",
       "      <td>1.1</td>\n",
       "      <td>93.994</td>\n",
       "      <td>-36.4</td>\n",
       "      <td>4.857</td>\n",
       "      <td>5191.0</td>\n",
       "      <td>0</td>\n",
       "    </tr>\n",
       "    <tr>\n",
       "      <th>1</th>\n",
       "      <td>4</td>\n",
       "      <td>services</td>\n",
       "      <td>married</td>\n",
       "      <td>0</td>\n",
       "      <td>no</td>\n",
       "      <td>no</td>\n",
       "      <td>no</td>\n",
       "      <td>telephone</td>\n",
       "      <td>may</td>\n",
       "      <td>mon</td>\n",
       "      <td>149</td>\n",
       "      <td>1</td>\n",
       "      <td>0</td>\n",
       "      <td>nonexistent</td>\n",
       "      <td>1.1</td>\n",
       "      <td>93.994</td>\n",
       "      <td>-36.4</td>\n",
       "      <td>4.857</td>\n",
       "      <td>5191.0</td>\n",
       "      <td>0</td>\n",
       "    </tr>\n",
       "    <tr>\n",
       "      <th>2</th>\n",
       "      <td>2</td>\n",
       "      <td>services</td>\n",
       "      <td>married</td>\n",
       "      <td>0</td>\n",
       "      <td>no</td>\n",
       "      <td>yes</td>\n",
       "      <td>no</td>\n",
       "      <td>telephone</td>\n",
       "      <td>may</td>\n",
       "      <td>mon</td>\n",
       "      <td>226</td>\n",
       "      <td>1</td>\n",
       "      <td>0</td>\n",
       "      <td>nonexistent</td>\n",
       "      <td>1.1</td>\n",
       "      <td>93.994</td>\n",
       "      <td>-36.4</td>\n",
       "      <td>4.857</td>\n",
       "      <td>5191.0</td>\n",
       "      <td>0</td>\n",
       "    </tr>\n",
       "    <tr>\n",
       "      <th>3</th>\n",
       "      <td>2</td>\n",
       "      <td>admin.</td>\n",
       "      <td>married</td>\n",
       "      <td>2</td>\n",
       "      <td>no</td>\n",
       "      <td>no</td>\n",
       "      <td>no</td>\n",
       "      <td>telephone</td>\n",
       "      <td>may</td>\n",
       "      <td>mon</td>\n",
       "      <td>151</td>\n",
       "      <td>1</td>\n",
       "      <td>0</td>\n",
       "      <td>nonexistent</td>\n",
       "      <td>1.1</td>\n",
       "      <td>93.994</td>\n",
       "      <td>-36.4</td>\n",
       "      <td>4.857</td>\n",
       "      <td>5191.0</td>\n",
       "      <td>0</td>\n",
       "    </tr>\n",
       "    <tr>\n",
       "      <th>4</th>\n",
       "      <td>4</td>\n",
       "      <td>services</td>\n",
       "      <td>married</td>\n",
       "      <td>0</td>\n",
       "      <td>no</td>\n",
       "      <td>no</td>\n",
       "      <td>yes</td>\n",
       "      <td>telephone</td>\n",
       "      <td>may</td>\n",
       "      <td>mon</td>\n",
       "      <td>307</td>\n",
       "      <td>1</td>\n",
       "      <td>0</td>\n",
       "      <td>nonexistent</td>\n",
       "      <td>1.1</td>\n",
       "      <td>93.994</td>\n",
       "      <td>-36.4</td>\n",
       "      <td>4.857</td>\n",
       "      <td>5191.0</td>\n",
       "      <td>0</td>\n",
       "    </tr>\n",
       "  </tbody>\n",
       "</table>\n",
       "</div>"
      ],
      "text/plain": [
       "   age_group        job  marital  education default housing loan    contact  \\\n",
       "0          4  housemaid  married          2      no      no   no  telephone   \n",
       "1          4   services  married          0      no      no   no  telephone   \n",
       "2          2   services  married          0      no     yes   no  telephone   \n",
       "3          2     admin.  married          2      no      no   no  telephone   \n",
       "4          4   services  married          0      no      no  yes  telephone   \n",
       "\n",
       "  month day_of_week  duration  campaign  previous     poutcome  emp.var.rate  \\\n",
       "0   may         mon       261         1         0  nonexistent           1.1   \n",
       "1   may         mon       149         1         0  nonexistent           1.1   \n",
       "2   may         mon       226         1         0  nonexistent           1.1   \n",
       "3   may         mon       151         1         0  nonexistent           1.1   \n",
       "4   may         mon       307         1         0  nonexistent           1.1   \n",
       "\n",
       "   cons.price.idx  cons.conf.idx  euribor3m  nr.employed  y  \n",
       "0          93.994          -36.4      4.857       5191.0  0  \n",
       "1          93.994          -36.4      4.857       5191.0  0  \n",
       "2          93.994          -36.4      4.857       5191.0  0  \n",
       "3          93.994          -36.4      4.857       5191.0  0  \n",
       "4          93.994          -36.4      4.857       5191.0  0  "
      ]
     },
     "execution_count": 51,
     "metadata": {},
     "output_type": "execute_result"
    }
   ],
   "source": [
    "data.head()"
   ]
  },
  {
   "cell_type": "markdown",
   "id": "arctic-spread",
   "metadata": {},
   "source": [
    "**9. Encoding categorical features that are not ordinal**"
   ]
  },
  {
   "cell_type": "code",
   "execution_count": 52,
   "id": "nearby-variety",
   "metadata": {},
   "outputs": [
    {
     "data": {
      "text/html": [
       "<div>\n",
       "<style scoped>\n",
       "    .dataframe tbody tr th:only-of-type {\n",
       "        vertical-align: middle;\n",
       "    }\n",
       "\n",
       "    .dataframe tbody tr th {\n",
       "        vertical-align: top;\n",
       "    }\n",
       "\n",
       "    .dataframe thead th {\n",
       "        text-align: right;\n",
       "    }\n",
       "</style>\n",
       "<table border=\"1\" class=\"dataframe\">\n",
       "  <thead>\n",
       "    <tr style=\"text-align: right;\">\n",
       "      <th></th>\n",
       "      <th>age_group</th>\n",
       "      <th>education</th>\n",
       "      <th>month</th>\n",
       "      <th>day_of_week</th>\n",
       "      <th>duration</th>\n",
       "      <th>campaign</th>\n",
       "      <th>previous</th>\n",
       "      <th>emp.var.rate</th>\n",
       "      <th>cons.price.idx</th>\n",
       "      <th>cons.conf.idx</th>\n",
       "      <th>...</th>\n",
       "      <th>default_yes</th>\n",
       "      <th>housing_no</th>\n",
       "      <th>housing_yes</th>\n",
       "      <th>loan_no</th>\n",
       "      <th>loan_yes</th>\n",
       "      <th>contact_cellular</th>\n",
       "      <th>contact_telephone</th>\n",
       "      <th>poutcome_failure</th>\n",
       "      <th>poutcome_nonexistent</th>\n",
       "      <th>poutcome_success</th>\n",
       "    </tr>\n",
       "  </thead>\n",
       "  <tbody>\n",
       "    <tr>\n",
       "      <th>0</th>\n",
       "      <td>4</td>\n",
       "      <td>2</td>\n",
       "      <td>may</td>\n",
       "      <td>mon</td>\n",
       "      <td>261</td>\n",
       "      <td>1</td>\n",
       "      <td>0</td>\n",
       "      <td>1.1</td>\n",
       "      <td>93.994</td>\n",
       "      <td>-36.4</td>\n",
       "      <td>...</td>\n",
       "      <td>0</td>\n",
       "      <td>1</td>\n",
       "      <td>0</td>\n",
       "      <td>1</td>\n",
       "      <td>0</td>\n",
       "      <td>0</td>\n",
       "      <td>1</td>\n",
       "      <td>0</td>\n",
       "      <td>1</td>\n",
       "      <td>0</td>\n",
       "    </tr>\n",
       "    <tr>\n",
       "      <th>1</th>\n",
       "      <td>4</td>\n",
       "      <td>0</td>\n",
       "      <td>may</td>\n",
       "      <td>mon</td>\n",
       "      <td>149</td>\n",
       "      <td>1</td>\n",
       "      <td>0</td>\n",
       "      <td>1.1</td>\n",
       "      <td>93.994</td>\n",
       "      <td>-36.4</td>\n",
       "      <td>...</td>\n",
       "      <td>0</td>\n",
       "      <td>1</td>\n",
       "      <td>0</td>\n",
       "      <td>1</td>\n",
       "      <td>0</td>\n",
       "      <td>0</td>\n",
       "      <td>1</td>\n",
       "      <td>0</td>\n",
       "      <td>1</td>\n",
       "      <td>0</td>\n",
       "    </tr>\n",
       "    <tr>\n",
       "      <th>2</th>\n",
       "      <td>2</td>\n",
       "      <td>0</td>\n",
       "      <td>may</td>\n",
       "      <td>mon</td>\n",
       "      <td>226</td>\n",
       "      <td>1</td>\n",
       "      <td>0</td>\n",
       "      <td>1.1</td>\n",
       "      <td>93.994</td>\n",
       "      <td>-36.4</td>\n",
       "      <td>...</td>\n",
       "      <td>0</td>\n",
       "      <td>0</td>\n",
       "      <td>1</td>\n",
       "      <td>1</td>\n",
       "      <td>0</td>\n",
       "      <td>0</td>\n",
       "      <td>1</td>\n",
       "      <td>0</td>\n",
       "      <td>1</td>\n",
       "      <td>0</td>\n",
       "    </tr>\n",
       "    <tr>\n",
       "      <th>3</th>\n",
       "      <td>2</td>\n",
       "      <td>2</td>\n",
       "      <td>may</td>\n",
       "      <td>mon</td>\n",
       "      <td>151</td>\n",
       "      <td>1</td>\n",
       "      <td>0</td>\n",
       "      <td>1.1</td>\n",
       "      <td>93.994</td>\n",
       "      <td>-36.4</td>\n",
       "      <td>...</td>\n",
       "      <td>0</td>\n",
       "      <td>1</td>\n",
       "      <td>0</td>\n",
       "      <td>1</td>\n",
       "      <td>0</td>\n",
       "      <td>0</td>\n",
       "      <td>1</td>\n",
       "      <td>0</td>\n",
       "      <td>1</td>\n",
       "      <td>0</td>\n",
       "    </tr>\n",
       "    <tr>\n",
       "      <th>4</th>\n",
       "      <td>4</td>\n",
       "      <td>0</td>\n",
       "      <td>may</td>\n",
       "      <td>mon</td>\n",
       "      <td>307</td>\n",
       "      <td>1</td>\n",
       "      <td>0</td>\n",
       "      <td>1.1</td>\n",
       "      <td>93.994</td>\n",
       "      <td>-36.4</td>\n",
       "      <td>...</td>\n",
       "      <td>0</td>\n",
       "      <td>1</td>\n",
       "      <td>0</td>\n",
       "      <td>0</td>\n",
       "      <td>1</td>\n",
       "      <td>0</td>\n",
       "      <td>1</td>\n",
       "      <td>0</td>\n",
       "      <td>1</td>\n",
       "      <td>0</td>\n",
       "    </tr>\n",
       "  </tbody>\n",
       "</table>\n",
       "<p>5 rows × 38 columns</p>\n",
       "</div>"
      ],
      "text/plain": [
       "   age_group  education month day_of_week  duration  campaign  previous  \\\n",
       "0          4          2   may         mon       261         1         0   \n",
       "1          4          0   may         mon       149         1         0   \n",
       "2          2          0   may         mon       226         1         0   \n",
       "3          2          2   may         mon       151         1         0   \n",
       "4          4          0   may         mon       307         1         0   \n",
       "\n",
       "   emp.var.rate  cons.price.idx  cons.conf.idx  ...  default_yes  housing_no  \\\n",
       "0           1.1          93.994          -36.4  ...            0           1   \n",
       "1           1.1          93.994          -36.4  ...            0           1   \n",
       "2           1.1          93.994          -36.4  ...            0           0   \n",
       "3           1.1          93.994          -36.4  ...            0           1   \n",
       "4           1.1          93.994          -36.4  ...            0           1   \n",
       "\n",
       "   housing_yes  loan_no  loan_yes  contact_cellular  contact_telephone  \\\n",
       "0            0        1         0                 0                  1   \n",
       "1            0        1         0                 0                  1   \n",
       "2            1        1         0                 0                  1   \n",
       "3            0        1         0                 0                  1   \n",
       "4            0        0         1                 0                  1   \n",
       "\n",
       "   poutcome_failure  poutcome_nonexistent  poutcome_success  \n",
       "0                 0                     1                 0  \n",
       "1                 0                     1                 0  \n",
       "2                 0                     1                 0  \n",
       "3                 0                     1                 0  \n",
       "4                 0                     1                 0  \n",
       "\n",
       "[5 rows x 38 columns]"
      ]
     },
     "execution_count": 52,
     "metadata": {},
     "output_type": "execute_result"
    }
   ],
   "source": [
    "data = pd.get_dummies(data, columns = ['job', 'marital', 'default','housing', 'loan', 'contact', 'poutcome'])\n",
    "data.head()"
   ]
  },
  {
   "cell_type": "markdown",
   "id": "marine-removal",
   "metadata": {},
   "source": [
    "**10. Encoding month and day of the week**"
   ]
  },
  {
   "cell_type": "code",
   "execution_count": 53,
   "id": "bottom-directive",
   "metadata": {},
   "outputs": [],
   "source": [
    "month_dict={'may':5,'jul':7,'aug':8,'jun':6,'nov':11,'apr':4,'oct':10,'sep':9,'mar':3,'dec':12}\n",
    "data['month']= data['month'].map(month_dict) \n",
    "\n",
    "day_dict={'thu':5,'mon':2,'wed':4,'tue':3,'fri':6}\n",
    "data['day_of_week']= data['day_of_week'].map(day_dict) "
   ]
  },
  {
   "cell_type": "code",
   "execution_count": 54,
   "id": "bearing-communication",
   "metadata": {},
   "outputs": [
    {
     "name": "stdout",
     "output_type": "stream",
     "text": [
      "<class 'pandas.core.frame.DataFrame'>\n",
      "Int64Index: 41146 entries, 0 to 41187\n",
      "Data columns (total 38 columns):\n",
      " #   Column                Non-Null Count  Dtype  \n",
      "---  ------                --------------  -----  \n",
      " 0   age_group             41146 non-null  int64  \n",
      " 1   education             41146 non-null  int64  \n",
      " 2   month                 41146 non-null  int64  \n",
      " 3   day_of_week           41146 non-null  int64  \n",
      " 4   duration              41146 non-null  int64  \n",
      " 5   campaign              41146 non-null  int64  \n",
      " 6   previous              41146 non-null  int64  \n",
      " 7   emp.var.rate          41146 non-null  float64\n",
      " 8   cons.price.idx        41146 non-null  float64\n",
      " 9   cons.conf.idx         41146 non-null  float64\n",
      " 10  euribor3m             41146 non-null  float64\n",
      " 11  nr.employed           41146 non-null  float64\n",
      " 12  y                     41146 non-null  int64  \n",
      " 13  job_admin.            41146 non-null  uint8  \n",
      " 14  job_blue-collar       41146 non-null  uint8  \n",
      " 15  job_entrepreneur      41146 non-null  uint8  \n",
      " 16  job_housemaid         41146 non-null  uint8  \n",
      " 17  job_management        41146 non-null  uint8  \n",
      " 18  job_retired           41146 non-null  uint8  \n",
      " 19  job_self-employed     41146 non-null  uint8  \n",
      " 20  job_services          41146 non-null  uint8  \n",
      " 21  job_student           41146 non-null  uint8  \n",
      " 22  job_technician        41146 non-null  uint8  \n",
      " 23  job_unemployed        41146 non-null  uint8  \n",
      " 24  marital_divorced      41146 non-null  uint8  \n",
      " 25  marital_married       41146 non-null  uint8  \n",
      " 26  marital_single        41146 non-null  uint8  \n",
      " 27  default_no            41146 non-null  uint8  \n",
      " 28  default_yes           41146 non-null  uint8  \n",
      " 29  housing_no            41146 non-null  uint8  \n",
      " 30  housing_yes           41146 non-null  uint8  \n",
      " 31  loan_no               41146 non-null  uint8  \n",
      " 32  loan_yes              41146 non-null  uint8  \n",
      " 33  contact_cellular      41146 non-null  uint8  \n",
      " 34  contact_telephone     41146 non-null  uint8  \n",
      " 35  poutcome_failure      41146 non-null  uint8  \n",
      " 36  poutcome_nonexistent  41146 non-null  uint8  \n",
      " 37  poutcome_success      41146 non-null  uint8  \n",
      "dtypes: float64(5), int64(8), uint8(25)\n",
      "memory usage: 5.4 MB\n"
     ]
    }
   ],
   "source": [
    "data.info()"
   ]
  },
  {
   "cell_type": "raw",
   "id": "atlantic-passage",
   "metadata": {},
   "source": [
    "We are done with the data preparation. 'Duration' variable will only be used for our baseline model, then we will drop it."
   ]
  },
  {
   "cell_type": "markdown",
   "id": "domestic-newark",
   "metadata": {},
   "source": [
    "### Separating target variable from the rest of our data"
   ]
  },
  {
   "cell_type": "code",
   "execution_count": 55,
   "id": "reduced-check",
   "metadata": {},
   "outputs": [],
   "source": [
    "#Let's store the 'y' into target variable\n",
    "\n",
    "target_variable=data['y']\n",
    "data=data.drop('y',axis=1)"
   ]
  },
  {
   "cell_type": "markdown",
   "id": "nonprofit-commitment",
   "metadata": {},
   "source": [
    "# Model Building"
   ]
  },
  {
   "cell_type": "markdown",
   "id": "tribal-console",
   "metadata": {},
   "source": [
    "### Split dataset into train and test dataset"
   ]
  },
  {
   "cell_type": "code",
   "execution_count": 56,
   "id": "reserved-motorcycle",
   "metadata": {},
   "outputs": [],
   "source": [
    "from sklearn.model_selection import train_test_split\n",
    "\n",
    "X_train, X_test, y_train, y_test = train_test_split(data, target_variable, test_size=0.3, random_state=42)"
   ]
  },
  {
   "cell_type": "markdown",
   "id": "specialized-mountain",
   "metadata": {},
   "source": [
    "### Baseline model\n",
    "\n",
    "**Logistic Regeression**"
   ]
  },
  {
   "cell_type": "code",
   "execution_count": 69,
   "id": "front-dividend",
   "metadata": {},
   "outputs": [],
   "source": [
    "from sklearn.pipeline import make_pipeline\n",
    "from sklearn.pipeline import Pipeline\n",
    "from sklearn.preprocessing import StandardScaler\n",
    "from sklearn.linear_model import LogisticRegression\n",
    "from sklearn.svm import SVC\n",
    "from xgboost import XGBClassifier, plot_importance\n",
    "from sklearn.model_selection import GridSearchCV\n",
    "from sklearn.metrics import accuracy_score, f1_score, confusion_matrix, classification_report"
   ]
  },
  {
   "cell_type": "code",
   "execution_count": 58,
   "id": "polyphonic-genetics",
   "metadata": {},
   "outputs": [
    {
     "data": {
      "text/plain": [
       "0.9085385612443292"
      ]
     },
     "execution_count": 58,
     "metadata": {},
     "output_type": "execute_result"
    }
   ],
   "source": [
    "pipe_lr = make_pipeline(StandardScaler(), LogisticRegression())\n",
    "pipe_lr.fit(X_train, y_train)  # apply scaling on training data\n",
    "pipe_lr.score(X_test, y_test)  # apply scaling on testing data, without leaking training data."
   ]
  },
  {
   "cell_type": "code",
   "execution_count": 59,
   "id": "saved-documentation",
   "metadata": {},
   "outputs": [
    {
     "name": "stdout",
     "output_type": "stream",
     "text": [
      "              precision    recall  f1-score   support\n",
      "\n",
      "           0       0.93      0.97      0.95     10931\n",
      "           1       0.67      0.40      0.50      1413\n",
      "\n",
      "    accuracy                           0.91     12344\n",
      "   macro avg       0.80      0.69      0.73     12344\n",
      "weighted avg       0.90      0.91      0.90     12344\n",
      "\n"
     ]
    },
    {
     "data": {
      "image/png": "[encoded data removed]",
      "text/plain": [
       "<Figure size 432x288 with 2 Axes>"
      ]
     },
     "metadata": {
      "needs_background": "light"
     },
     "output_type": "display_data"
    }
   ],
   "source": [
    "# Predictions\n",
    "pred_lr = pipe_lr.predict(X_test)\n",
    "\n",
    "# Classification report\n",
    "print(classification_report(y_test, pred_lr))\n",
    "\n",
    "# Confusion matrix\n",
    "fig, ax = plt.subplots()\n",
    "sns.heatmap(confusion_matrix(y_test, pred_lr, normalize='true'), annot=True, ax=ax)\n",
    "ax.set_title('Confusion Matrix')\n",
    "ax.set_ylabel('Real Value')\n",
    "ax.set_xlabel('Predicted Value')\n",
    "\n",
    "plt.show()"
   ]
  },
  {
   "cell_type": "markdown",
   "id": "insured-process",
   "metadata": {},
   "source": [
    "**Support Vector Machine**"
   ]
  },
  {
   "cell_type": "code",
   "execution_count": 60,
   "id": "superb-strategy",
   "metadata": {},
   "outputs": [
    {
     "data": {
      "text/plain": [
       "0.9061082307193778"
      ]
     },
     "execution_count": 60,
     "metadata": {},
     "output_type": "execute_result"
    }
   ],
   "source": [
    "pipe_svc = make_pipeline(StandardScaler(), SVC())\n",
    "#pipe_svc = Pipeline([('scaler', StandardScaler()), ('svc', SVC())])\n",
    "pipe_svc.fit(X_train, y_train)\n",
    "pipe_svc.score(X_test, y_test)"
   ]
  },
  {
   "cell_type": "code",
   "execution_count": 61,
   "id": "tight-listening",
   "metadata": {},
   "outputs": [
    {
     "name": "stdout",
     "output_type": "stream",
     "text": [
      "              precision    recall  f1-score   support\n",
      "\n",
      "           0       0.92      0.98      0.95     10931\n",
      "           1       0.68      0.34      0.45      1413\n",
      "\n",
      "    accuracy                           0.91     12344\n",
      "   macro avg       0.80      0.66      0.70     12344\n",
      "weighted avg       0.89      0.91      0.89     12344\n",
      "\n"
     ]
    },
    {
     "data": {
      "image/png": "[encoded data removed]",
      "text/plain": [
       "<Figure size 432x288 with 2 Axes>"
      ]
     },
     "metadata": {
      "needs_background": "light"
     },
     "output_type": "display_data"
    }
   ],
   "source": [
    "# Predictions\n",
    "pred_svc = pipe_svc.predict(X_test)\n",
    "\n",
    "# Classification report\n",
    "print(classification_report(y_test, pred_svc))\n",
    "\n",
    "# Confusion matrix\n",
    "fig, ax = plt.subplots()\n",
    "sns.heatmap(confusion_matrix(y_test, pred_svc, normalize='true'), annot=True, ax=ax)\n",
    "ax.set_title('Confusion Matrix')\n",
    "ax.set_ylabel('Real Value')\n",
    "ax.set_xlabel('Predicted Value')\n",
    "\n",
    "plt.show()"
   ]
  },
  {
   "cell_type": "markdown",
   "id": "arabic-anaheim",
   "metadata": {},
   "source": [
    "**XGBOOST**"
   ]
  },
  {
   "cell_type": "code",
   "execution_count": 64,
   "id": "signed-moderator",
   "metadata": {},
   "outputs": [
    {
     "name": "stdout",
     "output_type": "stream",
     "text": [
      "[22:48:56] WARNING: /home/conda/feedstock_root/build_artifacts/xgboost_1607604574104/work/src/learner.cc:1061: Starting in XGBoost 1.3.0, the default evaluation metric used with the objective 'binary:logistic' was changed from 'error' to 'logloss'. Explicitly set eval_metric if you'd like to restore the old behavior.\n"
     ]
    },
    {
     "data": {
      "text/plain": [
       "0.9149384316267012"
      ]
     },
     "execution_count": 64,
     "metadata": {},
     "output_type": "execute_result"
    }
   ],
   "source": [
    "pipe_xgb = make_pipeline(StandardScaler(), XGBClassifier(use_label_encoder =False, objective= 'binary:logistic', nthread=4, seed=42))\n",
    "pipe_xgb.fit(X_train, y_train)\n",
    "pipe_xgb.score(X_test, y_test)"
   ]
  },
  {
   "cell_type": "code",
   "execution_count": 65,
   "id": "effective-diagnosis",
   "metadata": {},
   "outputs": [
    {
     "name": "stdout",
     "output_type": "stream",
     "text": [
      "              precision    recall  f1-score   support\n",
      "\n",
      "           0       0.94      0.96      0.95     10931\n",
      "           1       0.66      0.54      0.59      1413\n",
      "\n",
      "    accuracy                           0.91     12344\n",
      "   macro avg       0.80      0.75      0.77     12344\n",
      "weighted avg       0.91      0.91      0.91     12344\n",
      "\n"
     ]
    },
    {
     "data": {
      "image/png": "[encoded data removed]",
      "text/plain": [
       "<Figure size 432x288 with 2 Axes>"
      ]
     },
     "metadata": {
      "needs_background": "light"
     },
     "output_type": "display_data"
    }
   ],
   "source": [
    "# Predictions\n",
    "pred_xgb = pipe_xgb.predict(X_test)\n",
    "\n",
    "# Classification report\n",
    "print(classification_report(y_test, pred_xgb))\n",
    "\n",
    "# Confusion matrix\n",
    "fig, ax = plt.subplots()\n",
    "sns.heatmap(confusion_matrix(y_test, pred_xgb, normalize='true'), annot=True, ax=ax)\n",
    "ax.set_title('Confusion Matrix')\n",
    "ax.set_ylabel('Real Value')\n",
    "ax.set_xlabel('Predicted Value')\n",
    "\n",
    "plt.show()"
   ]
  },
  {
   "cell_type": "markdown",
   "id": "rational-panic",
   "metadata": {},
   "source": [
    "It seems that all models performed very well, specially with the majority class. All three of them have 0.95 as F-1 score, \n",
    "but XGBoost did greater in the minority class improving a lot from 0.45 as F-1 score in SVM, and 0.50 in Logistic Regression, \n",
    "going up to 0.59 in XGBoost. So in general, XGBoost performed better and we will choose it for our predictions."
   ]
  }
 ],
 "metadata": {
  "kernelspec": {
   "display_name": "Python 3",
   "language": "python",
   "name": "python3"
  },
  "language_info": {
   "codemirror_mode": {
    "name": "ipython",
    "version": 3
   },
   "file_extension": ".py",
   "mimetype": "text/x-python",
   "name": "python",
   "nbconvert_exporter": "python",
   "pygments_lexer": "ipython3",
   "version": "3.7.9"
  }
 },
 "nbformat": 4,
 "nbformat_minor": 5
}
